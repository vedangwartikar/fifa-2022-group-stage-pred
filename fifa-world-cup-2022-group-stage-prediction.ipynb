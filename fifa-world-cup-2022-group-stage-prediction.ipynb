{
 "cells": [
  {
   "cell_type": "markdown",
   "metadata": {
    "papermill": {
     "duration": 0.013769,
     "end_time": "2022-11-23T16:46:59.516186",
     "exception": false,
     "start_time": "2022-11-23T16:46:59.502417",
     "status": "completed"
    },
    "tags": []
   },
   "source": [
    "# FIFA World Cup 2022 Group Stage Prediction\n",
    "\n",
    "One of the biggest event in soccer - FIFA World Cup 2022 begun. \n",
    "\n",
    "Few weeks ago, I used a simple machine learning models to predict the result in FIFA World Cup Group Stage just for fun. \n",
    "\n",
    "At the time I created this notebook (11.22), the model successfully predicted all 6 matches including the result of USA vs Wales (Draw).\n",
    "\n",
    "It looked like just a coincidence, but I decided to share this surprising result with the community.\n",
    "\n",
    "Update 11.24: Saudi Arabia and Japan won on their match against Argentina and Germany! Now model's accuracy is far below 100%..\n",
    "\n",
    "Here is the result you can get after executing this notebook.\n",
    "\n",
    "```text\n",
    "___Starting group H:___\n",
    "Uruguay vs. South Korea: Draw\n",
    "Uruguay vs. Portugal: Portugal wins with 0.58\n",
    "Uruguay vs. Ghana: Uruguay wins with 0.69\n",
    "South Korea vs. Portugal: Portugal wins with 0.65\n",
    "South Korea vs. Ghana: South Korea wins with 0.62\n",
    "Portugal vs. Ghana: Portugal wins with 0.71\n",
    "___Starting group D:___\n",
    "Denmark vs. Tunisia: Denmark wins with 0.55\n",
    "Denmark vs. France: France wins with 0.59\n",
    "Denmark vs. Australia: Denmark wins with 0.60\n",
    "Tunisia vs. France: France wins with 0.68\n",
    "Tunisia vs. Australia: Draw\n",
    "France vs. Australia: France wins with 0.63\n",
    "___Starting group E:___\n",
    "Germany vs. Japan: Draw\n",
    "Germany vs. Spain: Spain wins with 0.58\n",
    "Germany vs. Costa Rica: Germany wins with 0.55\n",
    "Japan vs. Spain: Spain wins with 0.64\n",
    "Japan vs. Costa Rica: Draw\n",
    "Spain vs. Costa Rica: Spain wins with 0.58\n",
    "___Starting group B:___\n",
    "Iran vs. England: England wins with 0.63\n",
    "Iran vs. USA: USA wins with 0.57\n",
    "Iran vs. Wales: Wales wins with 0.56\n",
    "England vs. USA: Draw\n",
    "England vs. Wales: Draw\n",
    "USA vs. Wales: Draw\n",
    "___Starting group C:___\n",
    "Argentina vs. Saudi Arabia: Argentina wins with 0.69\n",
    "Argentina vs. Mexico: Draw\n",
    "Argentina vs. Poland: Argentina wins with 0.57\n",
    "Saudi Arabia vs. Mexico: Mexico wins with 0.73\n",
    "Saudi Arabia vs. Poland: Poland wins with 0.67\n",
    "Mexico vs. Poland: Draw\n",
    "___Starting group G:___\n",
    "Switzerland vs. Cameroon: Switzerland wins with 0.60\n",
    "Switzerland vs. Brazil: Brazil wins with 0.63\n",
    "Switzerland vs. Serbia: Draw\n",
    "Cameroon vs. Brazil: Brazil wins with 0.75\n",
    "Cameroon vs. Serbia: Serbia wins with 0.65\n",
    "Brazil vs. Serbia: Brazil wins with 0.56\n",
    "___Starting group F:___\n",
    "Morocco vs. Croatia: Croatia wins with 0.60\n",
    "Morocco vs. Belgium: Belgium wins with 0.66\n",
    "Morocco vs. Canada: Morocco wins with 0.55\n",
    "Croatia vs. Belgium: Belgium wins with 0.61\n",
    "Croatia vs. Canada: Croatia wins with 0.60\n",
    "Belgium vs. Canada: Belgium wins with 0.65\n",
    "___Starting group A:___\n",
    "Senegal vs. Qatar: Senegal wins with 0.62\n",
    "Senegal vs. Netherlands: Netherlands wins with 0.61\n",
    "Senegal vs. Ecuador: Senegal wins with 0.59\n",
    "Qatar vs. Netherlands: Netherlands wins with 0.74\n",
    "Qatar vs. Ecuador: Ecuador wins with 0.57\n",
    "Netherlands vs. Ecuador: Netherlands wins with 0.64\n",
    "\n",
    "```\n",
    "\n",
    "\n",
    "I referenced some awesome kaggle notebooks for creating this, here are the references.\n",
    "\n",
    "https://www.kaggle.com/code/agostontorok/soccer-world-cup-2018-winner/notebook\n",
    "\n",
    "https://www.kaggle.com/code/startupsci/titanic-data-science-solutions"
   ]
  },
  {
   "cell_type": "markdown",
   "metadata": {
    "papermill": {
     "duration": 0.010902,
     "end_time": "2022-11-23T16:46:59.541003",
     "exception": false,
     "start_time": "2022-11-23T16:46:59.530101",
     "status": "completed"
    },
    "tags": []
   },
   "source": [
    "# Data Preprocessing\n",
    "\n",
    "- `match_df`: International FIFA matches from 1993\n",
    "- `rank_df`: FIFA Rankings Dataset\n",
    "- `worldcup_match_df`: Qatar World Cup Match Schedule Dataset\n",
    "- `teams_df`: Qatar World Cup Participants Dataset\n"
   ]
  },
  {
   "cell_type": "code",
   "execution_count": 1,
   "metadata": {
    "execution": {
     "iopub.execute_input": "2022-11-23T16:46:59.561450Z",
     "iopub.status.busy": "2022-11-23T16:46:59.560827Z",
     "iopub.status.idle": "2022-11-23T16:46:59.859988Z",
     "shell.execute_reply": "2022-11-23T16:46:59.858949Z"
    },
    "papermill": {
     "duration": 0.312829,
     "end_time": "2022-11-23T16:46:59.863021",
     "exception": false,
     "start_time": "2022-11-23T16:46:59.550192",
     "status": "completed"
    },
    "tags": []
   },
   "outputs": [],
   "source": [
    "import pandas as pd\n",
    "\n",
    "match_df = pd.read_csv(\"international_matches.csv\")\n",
    "rank_df = pd.read_csv(\"fifa_ranking-2022-10-06.csv\")\n",
    "worldcup_match_df = pd.read_csv(\"matchs-schudule.csv\", sep=\";\")\n",
    "teams_df = pd.read_csv(\"Qatar2022-teams.csv\", sep=\";\")"
   ]
  },
  {
   "cell_type": "markdown",
   "metadata": {
    "papermill": {
     "duration": 0.009296,
     "end_time": "2022-11-23T16:46:59.882417",
     "exception": false,
     "start_time": "2022-11-23T16:46:59.873121",
     "status": "completed"
    },
    "tags": []
   },
   "source": [
    "Let's take a loot at each dataframes by `.head()`."
   ]
  },
  {
   "cell_type": "code",
   "execution_count": 2,
   "metadata": {
    "execution": {
     "iopub.execute_input": "2022-11-23T16:46:59.905942Z",
     "iopub.status.busy": "2022-11-23T16:46:59.905237Z",
     "iopub.status.idle": "2022-11-23T16:46:59.947271Z",
     "shell.execute_reply": "2022-11-23T16:46:59.945881Z"
    },
    "papermill": {
     "duration": 0.0572,
     "end_time": "2022-11-23T16:46:59.950854",
     "exception": false,
     "start_time": "2022-11-23T16:46:59.893654",
     "status": "completed"
    },
    "tags": []
   },
   "outputs": [
    {
     "data": {
      "text/html": [
       "<div>\n",
       "<style scoped>\n",
       "    .dataframe tbody tr th:only-of-type {\n",
       "        vertical-align: middle;\n",
       "    }\n",
       "\n",
       "    .dataframe tbody tr th {\n",
       "        vertical-align: top;\n",
       "    }\n",
       "\n",
       "    .dataframe thead th {\n",
       "        text-align: right;\n",
       "    }\n",
       "</style>\n",
       "<table border=\"1\" class=\"dataframe\">\n",
       "  <thead>\n",
       "    <tr style=\"text-align: right;\">\n",
       "      <th></th>\n",
       "      <th>date</th>\n",
       "      <th>home_team</th>\n",
       "      <th>away_team</th>\n",
       "      <th>home_team_continent</th>\n",
       "      <th>away_team_continent</th>\n",
       "      <th>home_team_fifa_rank</th>\n",
       "      <th>away_team_fifa_rank</th>\n",
       "      <th>home_team_total_fifa_points</th>\n",
       "      <th>away_team_total_fifa_points</th>\n",
       "      <th>home_team_score</th>\n",
       "      <th>...</th>\n",
       "      <th>shoot_out</th>\n",
       "      <th>home_team_result</th>\n",
       "      <th>home_team_goalkeeper_score</th>\n",
       "      <th>away_team_goalkeeper_score</th>\n",
       "      <th>home_team_mean_defense_score</th>\n",
       "      <th>home_team_mean_offense_score</th>\n",
       "      <th>home_team_mean_midfield_score</th>\n",
       "      <th>away_team_mean_defense_score</th>\n",
       "      <th>away_team_mean_offense_score</th>\n",
       "      <th>away_team_mean_midfield_score</th>\n",
       "    </tr>\n",
       "  </thead>\n",
       "  <tbody>\n",
       "    <tr>\n",
       "      <th>0</th>\n",
       "      <td>1993-08-08</td>\n",
       "      <td>Bolivia</td>\n",
       "      <td>Uruguay</td>\n",
       "      <td>South America</td>\n",
       "      <td>South America</td>\n",
       "      <td>59</td>\n",
       "      <td>22</td>\n",
       "      <td>0</td>\n",
       "      <td>0</td>\n",
       "      <td>3</td>\n",
       "      <td>...</td>\n",
       "      <td>No</td>\n",
       "      <td>Win</td>\n",
       "      <td>NaN</td>\n",
       "      <td>NaN</td>\n",
       "      <td>NaN</td>\n",
       "      <td>NaN</td>\n",
       "      <td>NaN</td>\n",
       "      <td>NaN</td>\n",
       "      <td>NaN</td>\n",
       "      <td>NaN</td>\n",
       "    </tr>\n",
       "    <tr>\n",
       "      <th>1</th>\n",
       "      <td>1993-08-08</td>\n",
       "      <td>Brazil</td>\n",
       "      <td>Mexico</td>\n",
       "      <td>South America</td>\n",
       "      <td>North America</td>\n",
       "      <td>8</td>\n",
       "      <td>14</td>\n",
       "      <td>0</td>\n",
       "      <td>0</td>\n",
       "      <td>1</td>\n",
       "      <td>...</td>\n",
       "      <td>No</td>\n",
       "      <td>Draw</td>\n",
       "      <td>NaN</td>\n",
       "      <td>NaN</td>\n",
       "      <td>NaN</td>\n",
       "      <td>NaN</td>\n",
       "      <td>NaN</td>\n",
       "      <td>NaN</td>\n",
       "      <td>NaN</td>\n",
       "      <td>NaN</td>\n",
       "    </tr>\n",
       "    <tr>\n",
       "      <th>2</th>\n",
       "      <td>1993-08-08</td>\n",
       "      <td>Ecuador</td>\n",
       "      <td>Venezuela</td>\n",
       "      <td>South America</td>\n",
       "      <td>South America</td>\n",
       "      <td>35</td>\n",
       "      <td>94</td>\n",
       "      <td>0</td>\n",
       "      <td>0</td>\n",
       "      <td>5</td>\n",
       "      <td>...</td>\n",
       "      <td>No</td>\n",
       "      <td>Win</td>\n",
       "      <td>NaN</td>\n",
       "      <td>NaN</td>\n",
       "      <td>NaN</td>\n",
       "      <td>NaN</td>\n",
       "      <td>NaN</td>\n",
       "      <td>NaN</td>\n",
       "      <td>NaN</td>\n",
       "      <td>NaN</td>\n",
       "    </tr>\n",
       "    <tr>\n",
       "      <th>3</th>\n",
       "      <td>1993-08-08</td>\n",
       "      <td>Guinea</td>\n",
       "      <td>Sierra Leone</td>\n",
       "      <td>Africa</td>\n",
       "      <td>Africa</td>\n",
       "      <td>65</td>\n",
       "      <td>86</td>\n",
       "      <td>0</td>\n",
       "      <td>0</td>\n",
       "      <td>1</td>\n",
       "      <td>...</td>\n",
       "      <td>No</td>\n",
       "      <td>Win</td>\n",
       "      <td>NaN</td>\n",
       "      <td>NaN</td>\n",
       "      <td>NaN</td>\n",
       "      <td>NaN</td>\n",
       "      <td>NaN</td>\n",
       "      <td>NaN</td>\n",
       "      <td>NaN</td>\n",
       "      <td>NaN</td>\n",
       "    </tr>\n",
       "    <tr>\n",
       "      <th>4</th>\n",
       "      <td>1993-08-08</td>\n",
       "      <td>Paraguay</td>\n",
       "      <td>Argentina</td>\n",
       "      <td>South America</td>\n",
       "      <td>South America</td>\n",
       "      <td>67</td>\n",
       "      <td>5</td>\n",
       "      <td>0</td>\n",
       "      <td>0</td>\n",
       "      <td>1</td>\n",
       "      <td>...</td>\n",
       "      <td>No</td>\n",
       "      <td>Lose</td>\n",
       "      <td>NaN</td>\n",
       "      <td>NaN</td>\n",
       "      <td>NaN</td>\n",
       "      <td>NaN</td>\n",
       "      <td>NaN</td>\n",
       "      <td>NaN</td>\n",
       "      <td>NaN</td>\n",
       "      <td>NaN</td>\n",
       "    </tr>\n",
       "  </tbody>\n",
       "</table>\n",
       "<p>5 rows × 25 columns</p>\n",
       "</div>"
      ],
      "text/plain": [
       "         date home_team     away_team home_team_continent away_team_continent  \\\n",
       "0  1993-08-08   Bolivia       Uruguay       South America       South America   \n",
       "1  1993-08-08    Brazil        Mexico       South America       North America   \n",
       "2  1993-08-08   Ecuador     Venezuela       South America       South America   \n",
       "3  1993-08-08    Guinea  Sierra Leone              Africa              Africa   \n",
       "4  1993-08-08  Paraguay     Argentina       South America       South America   \n",
       "\n",
       "   home_team_fifa_rank  away_team_fifa_rank  home_team_total_fifa_points  \\\n",
       "0                   59                   22                            0   \n",
       "1                    8                   14                            0   \n",
       "2                   35                   94                            0   \n",
       "3                   65                   86                            0   \n",
       "4                   67                    5                            0   \n",
       "\n",
       "   away_team_total_fifa_points  home_team_score  ...  shoot_out  \\\n",
       "0                            0                3  ...         No   \n",
       "1                            0                1  ...         No   \n",
       "2                            0                5  ...         No   \n",
       "3                            0                1  ...         No   \n",
       "4                            0                1  ...         No   \n",
       "\n",
       "  home_team_result home_team_goalkeeper_score away_team_goalkeeper_score  \\\n",
       "0              Win                        NaN                        NaN   \n",
       "1             Draw                        NaN                        NaN   \n",
       "2              Win                        NaN                        NaN   \n",
       "3              Win                        NaN                        NaN   \n",
       "4             Lose                        NaN                        NaN   \n",
       "\n",
       "   home_team_mean_defense_score home_team_mean_offense_score  \\\n",
       "0                           NaN                          NaN   \n",
       "1                           NaN                          NaN   \n",
       "2                           NaN                          NaN   \n",
       "3                           NaN                          NaN   \n",
       "4                           NaN                          NaN   \n",
       "\n",
       "  home_team_mean_midfield_score  away_team_mean_defense_score  \\\n",
       "0                           NaN                           NaN   \n",
       "1                           NaN                           NaN   \n",
       "2                           NaN                           NaN   \n",
       "3                           NaN                           NaN   \n",
       "4                           NaN                           NaN   \n",
       "\n",
       "   away_team_mean_offense_score  away_team_mean_midfield_score  \n",
       "0                           NaN                            NaN  \n",
       "1                           NaN                            NaN  \n",
       "2                           NaN                            NaN  \n",
       "3                           NaN                            NaN  \n",
       "4                           NaN                            NaN  \n",
       "\n",
       "[5 rows x 25 columns]"
      ]
     },
     "execution_count": 2,
     "metadata": {},
     "output_type": "execute_result"
    }
   ],
   "source": [
    "match_df.head()"
   ]
  },
  {
   "cell_type": "code",
   "execution_count": 3,
   "metadata": {
    "execution": {
     "iopub.execute_input": "2022-11-23T16:46:59.972295Z",
     "iopub.status.busy": "2022-11-23T16:46:59.971903Z",
     "iopub.status.idle": "2022-11-23T16:46:59.987056Z",
     "shell.execute_reply": "2022-11-23T16:46:59.985885Z"
    },
    "papermill": {
     "duration": 0.028964,
     "end_time": "2022-11-23T16:46:59.989593",
     "exception": false,
     "start_time": "2022-11-23T16:46:59.960629",
     "status": "completed"
    },
    "tags": []
   },
   "outputs": [
    {
     "data": {
      "text/html": [
       "<div>\n",
       "<style scoped>\n",
       "    .dataframe tbody tr th:only-of-type {\n",
       "        vertical-align: middle;\n",
       "    }\n",
       "\n",
       "    .dataframe tbody tr th {\n",
       "        vertical-align: top;\n",
       "    }\n",
       "\n",
       "    .dataframe thead th {\n",
       "        text-align: right;\n",
       "    }\n",
       "</style>\n",
       "<table border=\"1\" class=\"dataframe\">\n",
       "  <thead>\n",
       "    <tr style=\"text-align: right;\">\n",
       "      <th></th>\n",
       "      <th>rank</th>\n",
       "      <th>country_full</th>\n",
       "      <th>country_abrv</th>\n",
       "      <th>total_points</th>\n",
       "      <th>previous_points</th>\n",
       "      <th>rank_change</th>\n",
       "      <th>confederation</th>\n",
       "      <th>rank_date</th>\n",
       "    </tr>\n",
       "  </thead>\n",
       "  <tbody>\n",
       "    <tr>\n",
       "      <th>0</th>\n",
       "      <td>1</td>\n",
       "      <td>Germany</td>\n",
       "      <td>GER</td>\n",
       "      <td>57.0</td>\n",
       "      <td>0.0</td>\n",
       "      <td>0</td>\n",
       "      <td>UEFA</td>\n",
       "      <td>1992-12-31</td>\n",
       "    </tr>\n",
       "    <tr>\n",
       "      <th>1</th>\n",
       "      <td>96</td>\n",
       "      <td>Syria</td>\n",
       "      <td>SYR</td>\n",
       "      <td>11.0</td>\n",
       "      <td>0.0</td>\n",
       "      <td>0</td>\n",
       "      <td>AFC</td>\n",
       "      <td>1992-12-31</td>\n",
       "    </tr>\n",
       "    <tr>\n",
       "      <th>2</th>\n",
       "      <td>97</td>\n",
       "      <td>Burkina Faso</td>\n",
       "      <td>BFA</td>\n",
       "      <td>11.0</td>\n",
       "      <td>0.0</td>\n",
       "      <td>0</td>\n",
       "      <td>CAF</td>\n",
       "      <td>1992-12-31</td>\n",
       "    </tr>\n",
       "    <tr>\n",
       "      <th>3</th>\n",
       "      <td>99</td>\n",
       "      <td>Latvia</td>\n",
       "      <td>LVA</td>\n",
       "      <td>10.0</td>\n",
       "      <td>0.0</td>\n",
       "      <td>0</td>\n",
       "      <td>UEFA</td>\n",
       "      <td>1992-12-31</td>\n",
       "    </tr>\n",
       "    <tr>\n",
       "      <th>4</th>\n",
       "      <td>100</td>\n",
       "      <td>Burundi</td>\n",
       "      <td>BDI</td>\n",
       "      <td>10.0</td>\n",
       "      <td>0.0</td>\n",
       "      <td>0</td>\n",
       "      <td>CAF</td>\n",
       "      <td>1992-12-31</td>\n",
       "    </tr>\n",
       "  </tbody>\n",
       "</table>\n",
       "</div>"
      ],
      "text/plain": [
       "   rank  country_full country_abrv  total_points  previous_points  \\\n",
       "0     1       Germany          GER          57.0              0.0   \n",
       "1    96         Syria          SYR          11.0              0.0   \n",
       "2    97  Burkina Faso          BFA          11.0              0.0   \n",
       "3    99        Latvia          LVA          10.0              0.0   \n",
       "4   100       Burundi          BDI          10.0              0.0   \n",
       "\n",
       "   rank_change confederation   rank_date  \n",
       "0            0          UEFA  1992-12-31  \n",
       "1            0           AFC  1992-12-31  \n",
       "2            0           CAF  1992-12-31  \n",
       "3            0          UEFA  1992-12-31  \n",
       "4            0           CAF  1992-12-31  "
      ]
     },
     "execution_count": 3,
     "metadata": {},
     "output_type": "execute_result"
    }
   ],
   "source": [
    "rank_df.head()"
   ]
  },
  {
   "cell_type": "code",
   "execution_count": 4,
   "metadata": {
    "execution": {
     "iopub.execute_input": "2022-11-23T16:47:00.011566Z",
     "iopub.status.busy": "2022-11-23T16:47:00.011172Z",
     "iopub.status.idle": "2022-11-23T16:47:00.023653Z",
     "shell.execute_reply": "2022-11-23T16:47:00.022584Z"
    },
    "papermill": {
     "duration": 0.026222,
     "end_time": "2022-11-23T16:47:00.025924",
     "exception": false,
     "start_time": "2022-11-23T16:46:59.999702",
     "status": "completed"
    },
    "tags": []
   },
   "outputs": [
    {
     "data": {
      "text/html": [
       "<div>\n",
       "<style scoped>\n",
       "    .dataframe tbody tr th:only-of-type {\n",
       "        vertical-align: middle;\n",
       "    }\n",
       "\n",
       "    .dataframe tbody tr th {\n",
       "        vertical-align: top;\n",
       "    }\n",
       "\n",
       "    .dataframe thead th {\n",
       "        text-align: right;\n",
       "    }\n",
       "</style>\n",
       "<table border=\"1\" class=\"dataframe\">\n",
       "  <thead>\n",
       "    <tr style=\"text-align: right;\">\n",
       "      <th></th>\n",
       "      <th>match</th>\n",
       "      <th>date</th>\n",
       "      <th>country1</th>\n",
       "      <th>coutry2</th>\n",
       "      <th>phase</th>\n",
       "    </tr>\n",
       "  </thead>\n",
       "  <tbody>\n",
       "    <tr>\n",
       "      <th>0</th>\n",
       "      <td>1</td>\n",
       "      <td>21/11/2022</td>\n",
       "      <td>Qatar</td>\n",
       "      <td>Ecuador</td>\n",
       "      <td>group matches</td>\n",
       "    </tr>\n",
       "    <tr>\n",
       "      <th>1</th>\n",
       "      <td>2</td>\n",
       "      <td>21/11/2022</td>\n",
       "      <td>Senegal</td>\n",
       "      <td>Netherlands</td>\n",
       "      <td>group matches</td>\n",
       "    </tr>\n",
       "    <tr>\n",
       "      <th>2</th>\n",
       "      <td>3</td>\n",
       "      <td>21/11/2022</td>\n",
       "      <td>England</td>\n",
       "      <td>Iran</td>\n",
       "      <td>group matches</td>\n",
       "    </tr>\n",
       "    <tr>\n",
       "      <th>3</th>\n",
       "      <td>4</td>\n",
       "      <td>21/11/2022</td>\n",
       "      <td>USA</td>\n",
       "      <td>Wales</td>\n",
       "      <td>group matches</td>\n",
       "    </tr>\n",
       "    <tr>\n",
       "      <th>4</th>\n",
       "      <td>5</td>\n",
       "      <td>22/11/2022</td>\n",
       "      <td>France</td>\n",
       "      <td>Australia</td>\n",
       "      <td>group matches</td>\n",
       "    </tr>\n",
       "  </tbody>\n",
       "</table>\n",
       "</div>"
      ],
      "text/plain": [
       "   match        date country1      coutry2          phase\n",
       "0      1  21/11/2022    Qatar      Ecuador  group matches\n",
       "1      2  21/11/2022  Senegal  Netherlands  group matches\n",
       "2      3  21/11/2022  England         Iran  group matches\n",
       "3      4  21/11/2022      USA        Wales  group matches\n",
       "4      5  22/11/2022   France    Australia  group matches"
      ]
     },
     "execution_count": 4,
     "metadata": {},
     "output_type": "execute_result"
    }
   ],
   "source": [
    "worldcup_match_df.head()"
   ]
  },
  {
   "cell_type": "code",
   "execution_count": 5,
   "metadata": {
    "execution": {
     "iopub.execute_input": "2022-11-23T16:47:00.049483Z",
     "iopub.status.busy": "2022-11-23T16:47:00.049069Z",
     "iopub.status.idle": "2022-11-23T16:47:00.059040Z",
     "shell.execute_reply": "2022-11-23T16:47:00.058086Z"
    },
    "papermill": {
     "duration": 0.024634,
     "end_time": "2022-11-23T16:47:00.061168",
     "exception": false,
     "start_time": "2022-11-23T16:47:00.036534",
     "status": "completed"
    },
    "tags": []
   },
   "outputs": [
    {
     "data": {
      "text/html": [
       "<div>\n",
       "<style scoped>\n",
       "    .dataframe tbody tr th:only-of-type {\n",
       "        vertical-align: middle;\n",
       "    }\n",
       "\n",
       "    .dataframe tbody tr th {\n",
       "        vertical-align: top;\n",
       "    }\n",
       "\n",
       "    .dataframe thead th {\n",
       "        text-align: right;\n",
       "    }\n",
       "</style>\n",
       "<table border=\"1\" class=\"dataframe\">\n",
       "  <thead>\n",
       "    <tr style=\"text-align: right;\">\n",
       "      <th></th>\n",
       "      <th>Team</th>\n",
       "      <th>Group</th>\n",
       "    </tr>\n",
       "  </thead>\n",
       "  <tbody>\n",
       "    <tr>\n",
       "      <th>0</th>\n",
       "      <td>Senegal</td>\n",
       "      <td>A</td>\n",
       "    </tr>\n",
       "    <tr>\n",
       "      <th>1</th>\n",
       "      <td>Qatar</td>\n",
       "      <td>A</td>\n",
       "    </tr>\n",
       "    <tr>\n",
       "      <th>2</th>\n",
       "      <td>Netherlands</td>\n",
       "      <td>A</td>\n",
       "    </tr>\n",
       "    <tr>\n",
       "      <th>3</th>\n",
       "      <td>Ecuador</td>\n",
       "      <td>A</td>\n",
       "    </tr>\n",
       "    <tr>\n",
       "      <th>4</th>\n",
       "      <td>Iran</td>\n",
       "      <td>B</td>\n",
       "    </tr>\n",
       "  </tbody>\n",
       "</table>\n",
       "</div>"
      ],
      "text/plain": [
       "          Team Group\n",
       "0      Senegal     A\n",
       "1        Qatar     A\n",
       "2  Netherlands     A\n",
       "3      Ecuador     A\n",
       "4         Iran     B"
      ]
     },
     "execution_count": 5,
     "metadata": {},
     "output_type": "execute_result"
    }
   ],
   "source": [
    "teams_df.head()"
   ]
  },
  {
   "cell_type": "markdown",
   "metadata": {
    "papermill": {
     "duration": 0.009849,
     "end_time": "2022-11-23T16:47:00.081761",
     "exception": false,
     "start_time": "2022-11-23T16:47:00.071912",
     "status": "completed"
    },
    "tags": []
   },
   "source": [
    "Some countries have different names. Let's standardize it."
   ]
  },
  {
   "cell_type": "code",
   "execution_count": 6,
   "metadata": {
    "execution": {
     "iopub.execute_input": "2022-11-23T16:47:00.104356Z",
     "iopub.status.busy": "2022-11-23T16:47:00.103927Z",
     "iopub.status.idle": "2022-11-23T16:47:00.182266Z",
     "shell.execute_reply": "2022-11-23T16:47:00.181081Z"
    },
    "papermill": {
     "duration": 0.092876,
     "end_time": "2022-11-23T16:47:00.185009",
     "exception": false,
     "start_time": "2022-11-23T16:47:00.092133",
     "status": "completed"
    },
    "tags": []
   },
   "outputs": [],
   "source": [
    "match_df = match_df.replace({\"IR Iran\": \"Iran\", \"Korea Republic\" : \"South Korea\"})\n",
    "rank_df = rank_df.replace({\"IR Iran\": \"Iran\", \"Korea Republic\" : \"South Korea\"})"
   ]
  },
  {
   "cell_type": "markdown",
   "metadata": {
    "papermill": {
     "duration": 0.010547,
     "end_time": "2022-11-23T16:47:00.205983",
     "exception": false,
     "start_time": "2022-11-23T16:47:00.195436",
     "status": "completed"
    },
    "tags": []
   },
   "source": [
    "# Feature Extraction\n",
    "\n",
    "I extracted some features for predicting match result, similar to the approach [here](https://www.kaggle.com/code/agostontorok/soccer-world-cup-2018-winner/notebook). I haven't tried alot of experiments, so these might be not the best features. I recommend to try your own ideas here.\n",
    "\n",
    "For your information, `is_stake` indicates whether the match is Friendly or not. Some teams tend to not do their best on friendly matches, so `is_stake` handles these cases.\n",
    "\n",
    "Similarly, I added `is_worldcup` to specially handle world cup matches."
   ]
  },
  {
   "cell_type": "code",
   "execution_count": 7,
   "metadata": {
    "execution": {
     "iopub.execute_input": "2022-11-23T16:47:00.228924Z",
     "iopub.status.busy": "2022-11-23T16:47:00.228463Z",
     "iopub.status.idle": "2022-11-23T16:47:00.250500Z",
     "shell.execute_reply": "2022-11-23T16:47:00.249036Z"
    },
    "papermill": {
     "duration": 0.03645,
     "end_time": "2022-11-23T16:47:00.253288",
     "exception": false,
     "start_time": "2022-11-23T16:47:00.216838",
     "status": "completed"
    },
    "tags": []
   },
   "outputs": [],
   "source": [
    "match_df['rank_difference'] = match_df['home_team_fifa_rank'] - match_df['away_team_fifa_rank']\n",
    "match_df['average_rank'] = (match_df['home_team_fifa_rank'] + match_df['away_team_fifa_rank'])/2\n",
    "match_df['point_difference'] = match_df['home_team_total_fifa_points'] - match_df['away_team_total_fifa_points']\n",
    "match_df['is_stake'] = match_df['tournament'] != 'Friendly'\n",
    "match_df['is_worldcup'] = 'FIFA World Cup' in match_df['tournament']\n",
    "\n",
    "match_df['score_difference'] = match_df['home_team_score'] - match_df['away_team_score'] # Note that this feature is not used in training\n",
    "match_df['is_won'] = match_df['score_difference'] > 0 # Take draw as lost\n"
   ]
  },
  {
   "cell_type": "markdown",
   "metadata": {
    "papermill": {
     "duration": 0.009949,
     "end_time": "2022-11-23T16:47:00.273983",
     "exception": false,
     "start_time": "2022-11-23T16:47:00.264034",
     "status": "completed"
    },
    "tags": []
   },
   "source": [
    "# Training\n",
    "\n",
    "For training, I mainly followed [this notebook](https://www.kaggle.com/code/startupsci/titanic-data-science-solutions)."
   ]
  },
  {
   "cell_type": "code",
   "execution_count": 8,
   "metadata": {
    "execution": {
     "iopub.execute_input": "2022-11-23T16:47:00.297343Z",
     "iopub.status.busy": "2022-11-23T16:47:00.296827Z",
     "iopub.status.idle": "2022-11-23T16:47:01.662861Z",
     "shell.execute_reply": "2022-11-23T16:47:01.661519Z"
    },
    "papermill": {
     "duration": 1.380858,
     "end_time": "2022-11-23T16:47:01.665679",
     "exception": false,
     "start_time": "2022-11-23T16:47:00.284821",
     "status": "completed"
    },
    "tags": []
   },
   "outputs": [],
   "source": [
    "from sklearn import linear_model\n",
    "from sklearn import ensemble\n",
    "from sklearn.model_selection import train_test_split\n",
    "from sklearn.metrics import confusion_matrix, roc_curve, roc_auc_score\n",
    "from sklearn.pipeline import Pipeline\n",
    "from sklearn.preprocessing import PolynomialFeatures\n",
    "\n",
    "# machine learning\n",
    "from sklearn.linear_model import LogisticRegression\n",
    "from sklearn.svm import SVC, LinearSVC\n",
    "from sklearn.ensemble import RandomForestClassifier\n",
    "from sklearn.neighbors import KNeighborsClassifier\n",
    "from sklearn.naive_bayes import GaussianNB\n",
    "from sklearn.linear_model import Perceptron\n",
    "from sklearn.linear_model import SGDClassifier\n",
    "from sklearn.tree import DecisionTreeClassifier"
   ]
  },
  {
   "cell_type": "code",
   "execution_count": 9,
   "metadata": {
    "execution": {
     "iopub.execute_input": "2022-11-23T16:47:01.689098Z",
     "iopub.status.busy": "2022-11-23T16:47:01.687979Z",
     "iopub.status.idle": "2022-11-23T16:47:01.709470Z",
     "shell.execute_reply": "2022-11-23T16:47:01.708451Z"
    },
    "papermill": {
     "duration": 0.0356,
     "end_time": "2022-11-23T16:47:01.711957",
     "exception": false,
     "start_time": "2022-11-23T16:47:01.676357",
     "status": "completed"
    },
    "tags": []
   },
   "outputs": [],
   "source": [
    "X, y = match_df.loc[:,['average_rank', 'rank_difference', 'point_difference', 'is_stake', 'is_worldcup']], match_df['is_won']\n",
    "X_train, X_test, y_train, y_test = train_test_split(\n",
    "    X, y, test_size=0.2, random_state=42)"
   ]
  },
  {
   "cell_type": "markdown",
   "metadata": {
    "papermill": {
     "duration": 0.009826,
     "end_time": "2022-11-23T16:47:01.732205",
     "exception": false,
     "start_time": "2022-11-23T16:47:01.722379",
     "status": "completed"
    },
    "tags": []
   },
   "source": [
    "Let's try different machine learning models. In this notebook, we'll try the following.\n",
    "\n",
    "1. Logistic Regression\n",
    "2. Support Vector Machines\n",
    "3. KNN\n",
    "4. Gaussian Naive Bayes\n",
    "5. Decision Tree\n",
    "6. Random Forest"
   ]
  },
  {
   "cell_type": "code",
   "execution_count": 10,
   "metadata": {
    "execution": {
     "iopub.execute_input": "2022-11-23T16:47:01.754344Z",
     "iopub.status.busy": "2022-11-23T16:47:01.753912Z",
     "iopub.status.idle": "2022-11-23T16:47:01.950409Z",
     "shell.execute_reply": "2022-11-23T16:47:01.948869Z"
    },
    "papermill": {
     "duration": 0.212254,
     "end_time": "2022-11-23T16:47:01.954710",
     "exception": false,
     "start_time": "2022-11-23T16:47:01.742456",
     "status": "completed"
    },
    "tags": []
   },
   "outputs": [
    {
     "data": {
      "text/plain": [
       "68.38"
      ]
     },
     "execution_count": 10,
     "metadata": {},
     "output_type": "execute_result"
    }
   ],
   "source": [
    "# Logistic Regression\n",
    "\n",
    "logreg = LogisticRegression()\n",
    "logreg.fit(X_train, y_train)\n",
    "lg_pred = logreg.predict(X_test)\n",
    "acc_log = round(logreg.score(X_test, y_test) * 100, 2)\n",
    "acc_log"
   ]
  },
  {
   "cell_type": "code",
   "execution_count": 11,
   "metadata": {
    "execution": {
     "iopub.execute_input": "2022-11-23T16:47:02.012287Z",
     "iopub.status.busy": "2022-11-23T16:47:02.011490Z",
     "iopub.status.idle": "2022-11-23T16:47:25.749539Z",
     "shell.execute_reply": "2022-11-23T16:47:25.748395Z"
    },
    "papermill": {
     "duration": 23.770078,
     "end_time": "2022-11-23T16:47:25.752184",
     "exception": false,
     "start_time": "2022-11-23T16:47:01.982106",
     "status": "completed"
    },
    "tags": []
   },
   "outputs": [
    {
     "data": {
      "text/plain": [
       "68.17"
      ]
     },
     "execution_count": 11,
     "metadata": {},
     "output_type": "execute_result"
    }
   ],
   "source": [
    "# Support Vector Machines\n",
    "\n",
    "svc = SVC()\n",
    "svc.fit(X_train, y_train)\n",
    "svm_pred = svc.predict(X_test)\n",
    "acc_svc = round(svc.score(X_test, y_test) * 100, 2)\n",
    "acc_svc"
   ]
  },
  {
   "cell_type": "code",
   "execution_count": 12,
   "metadata": {
    "execution": {
     "iopub.execute_input": "2022-11-23T16:47:25.775837Z",
     "iopub.status.busy": "2022-11-23T16:47:25.775377Z",
     "iopub.status.idle": "2022-11-23T16:47:26.109212Z",
     "shell.execute_reply": "2022-11-23T16:47:26.107873Z"
    },
    "papermill": {
     "duration": 0.348636,
     "end_time": "2022-11-23T16:47:26.111844",
     "exception": false,
     "start_time": "2022-11-23T16:47:25.763208",
     "status": "completed"
    },
    "tags": []
   },
   "outputs": [
    {
     "data": {
      "text/plain": [
       "62.78"
      ]
     },
     "execution_count": 12,
     "metadata": {},
     "output_type": "execute_result"
    }
   ],
   "source": [
    "# KNN\n",
    "\n",
    "knn = KNeighborsClassifier(n_neighbors = 3)\n",
    "knn.fit(X_train, y_train)\n",
    "Y_pred = knn.predict(X_test)\n",
    "acc_knn = round(knn.score(X_test, y_test) * 100, 2)\n",
    "acc_knn"
   ]
  },
  {
   "cell_type": "code",
   "execution_count": 13,
   "metadata": {
    "execution": {
     "iopub.execute_input": "2022-11-23T16:47:26.134426Z",
     "iopub.status.busy": "2022-11-23T16:47:26.134034Z",
     "iopub.status.idle": "2022-11-23T16:47:26.164514Z",
     "shell.execute_reply": "2022-11-23T16:47:26.163199Z"
    },
    "papermill": {
     "duration": 0.044851,
     "end_time": "2022-11-23T16:47:26.167158",
     "exception": false,
     "start_time": "2022-11-23T16:47:26.122307",
     "status": "completed"
    },
    "tags": []
   },
   "outputs": [
    {
     "data": {
      "text/plain": [
       "68.36"
      ]
     },
     "execution_count": 13,
     "metadata": {},
     "output_type": "execute_result"
    }
   ],
   "source": [
    "# Gaussian Naive Bayes\n",
    "\n",
    "gaussian = GaussianNB()\n",
    "gaussian.fit(X_train, y_train)\n",
    "gnb_pred = gaussian.predict(X_test)\n",
    "acc_gaussian = round(gaussian.score(X_test, y_test) * 100, 2)\n",
    "acc_gaussian"
   ]
  },
  {
   "cell_type": "code",
   "execution_count": 14,
   "metadata": {
    "execution": {
     "iopub.execute_input": "2022-11-23T16:47:26.191344Z",
     "iopub.status.busy": "2022-11-23T16:47:26.190777Z",
     "iopub.status.idle": "2022-11-23T16:47:26.286441Z",
     "shell.execute_reply": "2022-11-23T16:47:26.285328Z"
    },
    "papermill": {
     "duration": 0.110756,
     "end_time": "2022-11-23T16:47:26.289006",
     "exception": false,
     "start_time": "2022-11-23T16:47:26.178250",
     "status": "completed"
    },
    "tags": []
   },
   "outputs": [
    {
     "data": {
      "text/plain": [
       "59.02"
      ]
     },
     "execution_count": 14,
     "metadata": {},
     "output_type": "execute_result"
    }
   ],
   "source": [
    "# Decision Tree\n",
    "\n",
    "decision_tree = DecisionTreeClassifier()\n",
    "decision_tree.fit(X_train, y_train)\n",
    "Y_pred = decision_tree.predict(X_test)\n",
    "acc_decision_tree = round(decision_tree.score(X_test, y_test) * 100, 2)\n",
    "acc_decision_tree"
   ]
  },
  {
   "cell_type": "code",
   "execution_count": 15,
   "metadata": {
    "execution": {
     "iopub.execute_input": "2022-11-23T16:47:26.313587Z",
     "iopub.status.busy": "2022-11-23T16:47:26.313156Z",
     "iopub.status.idle": "2022-11-23T16:47:29.793324Z",
     "shell.execute_reply": "2022-11-23T16:47:29.792108Z"
    },
    "papermill": {
     "duration": 3.495521,
     "end_time": "2022-11-23T16:47:29.795936",
     "exception": false,
     "start_time": "2022-11-23T16:47:26.300415",
     "status": "completed"
    },
    "tags": []
   },
   "outputs": [
    {
     "data": {
      "text/plain": [
       "64.95"
      ]
     },
     "execution_count": 15,
     "metadata": {},
     "output_type": "execute_result"
    }
   ],
   "source": [
    "# Random Forest\n",
    "\n",
    "random_forest = RandomForestClassifier(n_estimators=100)\n",
    "random_forest.fit(X_train, y_train)\n",
    "Y_pred = random_forest.predict(X_test)\n",
    "random_forest.score(X_train, y_train)\n",
    "acc_random_forest = round(random_forest.score(X_test, y_test) * 100, 2)\n",
    "acc_random_forest"
   ]
  },
  {
   "cell_type": "code",
   "execution_count": 16,
   "metadata": {
    "execution": {
     "iopub.execute_input": "2022-11-23T16:47:29.819711Z",
     "iopub.status.busy": "2022-11-23T16:47:29.819339Z",
     "iopub.status.idle": "2022-11-23T16:47:29.833730Z",
     "shell.execute_reply": "2022-11-23T16:47:29.832471Z"
    },
    "papermill": {
     "duration": 0.029504,
     "end_time": "2022-11-23T16:47:29.836345",
     "exception": false,
     "start_time": "2022-11-23T16:47:29.806841",
     "status": "completed"
    },
    "tags": []
   },
   "outputs": [
    {
     "data": {
      "text/html": [
       "<div>\n",
       "<style scoped>\n",
       "    .dataframe tbody tr th:only-of-type {\n",
       "        vertical-align: middle;\n",
       "    }\n",
       "\n",
       "    .dataframe tbody tr th {\n",
       "        vertical-align: top;\n",
       "    }\n",
       "\n",
       "    .dataframe thead th {\n",
       "        text-align: right;\n",
       "    }\n",
       "</style>\n",
       "<table border=\"1\" class=\"dataframe\">\n",
       "  <thead>\n",
       "    <tr style=\"text-align: right;\">\n",
       "      <th></th>\n",
       "      <th>Model</th>\n",
       "      <th>Score</th>\n",
       "    </tr>\n",
       "  </thead>\n",
       "  <tbody>\n",
       "    <tr>\n",
       "      <th>2</th>\n",
       "      <td>Logistic Regression</td>\n",
       "      <td>68.38</td>\n",
       "    </tr>\n",
       "    <tr>\n",
       "      <th>4</th>\n",
       "      <td>Naive Bayes</td>\n",
       "      <td>68.36</td>\n",
       "    </tr>\n",
       "    <tr>\n",
       "      <th>0</th>\n",
       "      <td>Support Vector Machines</td>\n",
       "      <td>68.17</td>\n",
       "    </tr>\n",
       "    <tr>\n",
       "      <th>3</th>\n",
       "      <td>Random Forest</td>\n",
       "      <td>64.95</td>\n",
       "    </tr>\n",
       "    <tr>\n",
       "      <th>1</th>\n",
       "      <td>KNN</td>\n",
       "      <td>62.78</td>\n",
       "    </tr>\n",
       "    <tr>\n",
       "      <th>5</th>\n",
       "      <td>Decision Tree</td>\n",
       "      <td>59.02</td>\n",
       "    </tr>\n",
       "  </tbody>\n",
       "</table>\n",
       "</div>"
      ],
      "text/plain": [
       "                     Model  Score\n",
       "2      Logistic Regression  68.38\n",
       "4              Naive Bayes  68.36\n",
       "0  Support Vector Machines  68.17\n",
       "3            Random Forest  64.95\n",
       "1                      KNN  62.78\n",
       "5            Decision Tree  59.02"
      ]
     },
     "execution_count": 16,
     "metadata": {},
     "output_type": "execute_result"
    }
   ],
   "source": [
    "models = pd.DataFrame({\n",
    "    'Model': ['Support Vector Machines', 'KNN', 'Logistic Regression', \n",
    "              'Random Forest', 'Naive Bayes',\n",
    "              'Decision Tree'],\n",
    "    'Score': [acc_svc, acc_knn, acc_log, \n",
    "              acc_random_forest, acc_gaussian, acc_decision_tree]})\n",
    "models.sort_values(by='Score', ascending=False)"
   ]
  },
  {
   "cell_type": "markdown",
   "metadata": {
    "papermill": {
     "duration": 0.011167,
     "end_time": "2022-11-23T16:47:29.859183",
     "exception": false,
     "start_time": "2022-11-23T16:47:29.848016",
     "status": "completed"
    },
    "tags": []
   },
   "source": [
    "I'll use Logistic Regression for final prediction. Ensembling top 3 models may work better though."
   ]
  },
  {
   "cell_type": "code",
   "execution_count": 30,
   "metadata": {},
   "outputs": [
    {
     "name": "stderr",
     "output_type": "stream",
     "text": [
      "100%|██████████████████████████████████████████████████████████████████████████████████| 29/29 [01:23<00:00,  2.89s/it]"
     ]
    },
    {
     "name": "stdout",
     "output_type": "stream",
     "text": [
      "                               Accuracy  Balanced Accuracy  ROC AUC  F1 Score  \\\n",
      "Model                                                                           \n",
      "SVC                                0.68               0.68     0.68      0.68   \n",
      "GaussianNB                         0.68               0.68     0.68      0.68   \n",
      "NearestCentroid                    0.68               0.68     0.68      0.68   \n",
      "LinearDiscriminantAnalysis         0.68               0.68     0.68      0.68   \n",
      "RidgeClassifier                    0.68               0.68     0.68      0.68   \n",
      "RidgeClassifierCV                  0.68               0.68     0.68      0.68   \n",
      "LinearSVC                          0.68               0.68     0.68      0.68   \n",
      "BernoulliNB                        0.68               0.68     0.68      0.68   \n",
      "CalibratedClassifierCV             0.68               0.68     0.68      0.68   \n",
      "AdaBoostClassifier                 0.68               0.68     0.68      0.68   \n",
      "LogisticRegression                 0.68               0.68     0.68      0.68   \n",
      "QuadraticDiscriminantAnalysis      0.68               0.68     0.68      0.68   \n",
      "LabelSpreading                     0.68               0.68     0.68      0.68   \n",
      "LabelPropagation                   0.68               0.68     0.68      0.68   \n",
      "LGBMClassifier                     0.68               0.67     0.67      0.68   \n",
      "SGDClassifier                      0.67               0.67     0.67      0.66   \n",
      "XGBClassifier                      0.66               0.66     0.66      0.66   \n",
      "KNeighborsClassifier               0.64               0.64     0.64      0.64   \n",
      "RandomForestClassifier             0.63               0.63     0.63      0.63   \n",
      "ExtraTreesClassifier               0.62               0.62     0.62      0.62   \n",
      "BaggingClassifier                  0.62               0.62     0.62      0.62   \n",
      "ExtraTreeClassifier                0.60               0.60     0.60      0.60   \n",
      "DecisionTreeClassifier             0.58               0.58     0.58      0.58   \n",
      "PassiveAggressiveClassifier        0.57               0.56     0.56      0.49   \n",
      "NuSVC                              0.54               0.54     0.54      0.54   \n",
      "DummyClassifier                    0.51               0.51     0.51      0.51   \n",
      "Perceptron                         0.36               0.36     0.36      0.36   \n",
      "\n",
      "                               Time Taken  \n",
      "Model                                      \n",
      "SVC                                 11.26  \n",
      "GaussianNB                           0.02  \n",
      "NearestCentroid                      0.03  \n",
      "LinearDiscriminantAnalysis           0.20  \n",
      "RidgeClassifier                      0.06  \n",
      "RidgeClassifierCV                    0.03  \n",
      "LinearSVC                            1.01  \n",
      "BernoulliNB                          0.03  \n",
      "CalibratedClassifierCV               3.01  \n",
      "AdaBoostClassifier                   0.38  \n",
      "LogisticRegression                   0.12  \n",
      "QuadraticDiscriminantAnalysis        0.04  \n",
      "LabelSpreading                      24.00  \n",
      "LabelPropagation                    19.69  \n",
      "LGBMClassifier                       0.27  \n",
      "SGDClassifier                        0.07  \n",
      "XGBClassifier                        0.92  \n",
      "KNeighborsClassifier                 0.27  \n",
      "RandomForestClassifier               1.88  \n",
      "ExtraTreesClassifier                 1.48  \n",
      "BaggingClassifier                    0.34  \n",
      "ExtraTreeClassifier                  0.03  \n",
      "DecisionTreeClassifier               0.06  \n",
      "PassiveAggressiveClassifier          0.05  \n",
      "NuSVC                               18.54  \n",
      "DummyClassifier                      0.02  \n",
      "Perceptron                           0.03  \n"
     ]
    },
    {
     "name": "stderr",
     "output_type": "stream",
     "text": [
      "\n"
     ]
    }
   ],
   "source": [
    "import lazypredict\n",
    "\n",
    "from lazypredict.Supervised import LazyClassifier\n",
    "from sklearn.model_selection import train_test_split\n",
    "\n",
    "clf = LazyClassifier(verbose=0,ignore_warnings=True, custom_metric=None)\n",
    "models,predictions = clf.fit(X_train, X_test, y_train, y_test)\n",
    "\n",
    "print(models)"
   ]
  },
  {
   "cell_type": "code",
   "execution_count": 17,
   "metadata": {
    "execution": {
     "iopub.execute_input": "2022-11-23T16:47:29.884229Z",
     "iopub.status.busy": "2022-11-23T16:47:29.883193Z",
     "iopub.status.idle": "2022-11-23T16:47:29.888734Z",
     "shell.execute_reply": "2022-11-23T16:47:29.887548Z"
    },
    "papermill": {
     "duration": 0.020525,
     "end_time": "2022-11-23T16:47:29.891241",
     "exception": false,
     "start_time": "2022-11-23T16:47:29.870716",
     "status": "completed"
    },
    "tags": []
   },
   "outputs": [],
   "source": [
    "model = logreg"
   ]
  },
  {
   "cell_type": "markdown",
   "metadata": {
    "papermill": {
     "duration": 0.010703,
     "end_time": "2022-11-23T16:47:29.912994",
     "exception": false,
     "start_time": "2022-11-23T16:47:29.902291",
     "status": "completed"
    },
    "tags": []
   },
   "source": [
    "# Prediction\n",
    "\n",
    "Now, we have to manually create rows for Qatar 2022 matches. \n",
    "\n",
    "Also, we're going to define a small margin to handle situations safer to predict draw then win."
   ]
  },
  {
   "cell_type": "code",
   "execution_count": 31,
   "metadata": {
    "execution": {
     "iopub.execute_input": "2022-11-23T16:47:29.936942Z",
     "iopub.status.busy": "2022-11-23T16:47:29.936489Z",
     "iopub.status.idle": "2022-11-23T16:47:29.961387Z",
     "shell.execute_reply": "2022-11-23T16:47:29.960286Z"
    },
    "papermill": {
     "duration": 0.040071,
     "end_time": "2022-11-23T16:47:29.964139",
     "exception": false,
     "start_time": "2022-11-23T16:47:29.924068",
     "status": "completed"
    },
    "tags": []
   },
   "outputs": [],
   "source": [
    "# let's define a small margin when we safer to predict draw then win\n",
    "margin = 0.05\n",
    "\n",
    "# let's define the rankings at the time of the World Cup\n",
    "rank_df = rank_df.loc[(rank_df['rank_date'] == rank_df['rank_date'].max()) & (rank_df['country_full'].isin(teams_df['Team'].unique()))]\n",
    "\n",
    "worldcup_rankings = rank_df.set_index(['country_full'])"
   ]
  },
  {
   "cell_type": "code",
   "execution_count": 32,
   "metadata": {
    "execution": {
     "iopub.execute_input": "2022-11-23T16:47:29.987778Z",
     "iopub.status.busy": "2022-11-23T16:47:29.987392Z",
     "iopub.status.idle": "2022-11-23T16:47:30.003145Z",
     "shell.execute_reply": "2022-11-23T16:47:30.001872Z"
    },
    "papermill": {
     "duration": 0.030353,
     "end_time": "2022-11-23T16:47:30.005565",
     "exception": false,
     "start_time": "2022-11-23T16:47:29.975212",
     "status": "completed"
    },
    "tags": []
   },
   "outputs": [
    {
     "data": {
      "text/html": [
       "<div>\n",
       "<style scoped>\n",
       "    .dataframe tbody tr th:only-of-type {\n",
       "        vertical-align: middle;\n",
       "    }\n",
       "\n",
       "    .dataframe tbody tr th {\n",
       "        vertical-align: top;\n",
       "    }\n",
       "\n",
       "    .dataframe thead th {\n",
       "        text-align: right;\n",
       "    }\n",
       "</style>\n",
       "<table border=\"1\" class=\"dataframe\">\n",
       "  <thead>\n",
       "    <tr style=\"text-align: right;\">\n",
       "      <th></th>\n",
       "      <th>rank</th>\n",
       "      <th>country_abrv</th>\n",
       "      <th>total_points</th>\n",
       "      <th>previous_points</th>\n",
       "      <th>rank_change</th>\n",
       "      <th>confederation</th>\n",
       "      <th>rank_date</th>\n",
       "    </tr>\n",
       "    <tr>\n",
       "      <th>country_full</th>\n",
       "      <th></th>\n",
       "      <th></th>\n",
       "      <th></th>\n",
       "      <th></th>\n",
       "      <th></th>\n",
       "      <th></th>\n",
       "      <th></th>\n",
       "    </tr>\n",
       "  </thead>\n",
       "  <tbody>\n",
       "    <tr>\n",
       "      <th>Brazil</th>\n",
       "      <td>1</td>\n",
       "      <td>BRA</td>\n",
       "      <td>1841.30</td>\n",
       "      <td>1837.56</td>\n",
       "      <td>0</td>\n",
       "      <td>CONMEBOL</td>\n",
       "      <td>2022-10-06</td>\n",
       "    </tr>\n",
       "    <tr>\n",
       "      <th>South Korea</th>\n",
       "      <td>28</td>\n",
       "      <td>KOR</td>\n",
       "      <td>1530.30</td>\n",
       "      <td>1526.02</td>\n",
       "      <td>0</td>\n",
       "      <td>AFC</td>\n",
       "      <td>2022-10-06</td>\n",
       "    </tr>\n",
       "    <tr>\n",
       "      <th>Tunisia</th>\n",
       "      <td>30</td>\n",
       "      <td>TUN</td>\n",
       "      <td>1507.54</td>\n",
       "      <td>1507.86</td>\n",
       "      <td>0</td>\n",
       "      <td>CAF</td>\n",
       "      <td>2022-10-06</td>\n",
       "    </tr>\n",
       "    <tr>\n",
       "      <th>Costa Rica</th>\n",
       "      <td>31</td>\n",
       "      <td>CRC</td>\n",
       "      <td>1503.59</td>\n",
       "      <td>1500.06</td>\n",
       "      <td>-3</td>\n",
       "      <td>CONCACAF</td>\n",
       "      <td>2022-10-06</td>\n",
       "    </tr>\n",
       "    <tr>\n",
       "      <th>Australia</th>\n",
       "      <td>38</td>\n",
       "      <td>AUS</td>\n",
       "      <td>1488.72</td>\n",
       "      <td>1483.73</td>\n",
       "      <td>-1</td>\n",
       "      <td>AFC</td>\n",
       "      <td>2022-10-06</td>\n",
       "    </tr>\n",
       "  </tbody>\n",
       "</table>\n",
       "</div>"
      ],
      "text/plain": [
       "              rank country_abrv  total_points  previous_points  rank_change  \\\n",
       "country_full                                                                  \n",
       "Brazil           1          BRA       1841.30          1837.56            0   \n",
       "South Korea     28          KOR       1530.30          1526.02            0   \n",
       "Tunisia         30          TUN       1507.54          1507.86            0   \n",
       "Costa Rica      31          CRC       1503.59          1500.06           -3   \n",
       "Australia       38          AUS       1488.72          1483.73           -1   \n",
       "\n",
       "             confederation   rank_date  \n",
       "country_full                            \n",
       "Brazil            CONMEBOL  2022-10-06  \n",
       "South Korea            AFC  2022-10-06  \n",
       "Tunisia                CAF  2022-10-06  \n",
       "Costa Rica        CONCACAF  2022-10-06  \n",
       "Australia              AFC  2022-10-06  "
      ]
     },
     "execution_count": 32,
     "metadata": {},
     "output_type": "execute_result"
    }
   ],
   "source": [
    "worldcup_rankings.head()"
   ]
  },
  {
   "cell_type": "code",
   "execution_count": 33,
   "metadata": {
    "execution": {
     "iopub.execute_input": "2022-11-23T16:47:30.030508Z",
     "iopub.status.busy": "2022-11-23T16:47:30.030109Z",
     "iopub.status.idle": "2022-11-23T16:47:30.037969Z",
     "shell.execute_reply": "2022-11-23T16:47:30.036729Z"
    },
    "papermill": {
     "duration": 0.023405,
     "end_time": "2022-11-23T16:47:30.040622",
     "exception": false,
     "start_time": "2022-11-23T16:47:30.017217",
     "status": "completed"
    },
    "tags": []
   },
   "outputs": [
    {
     "data": {
      "text/plain": [
       "Index(['Brazil', 'South Korea', 'Tunisia', 'Costa Rica', 'Australia', 'Canada',\n",
       "       'Cameroon', 'Ecuador', 'Poland', 'Japan', 'Belgium', 'Argentina',\n",
       "       'France', 'England', 'Spain', 'Netherlands', 'Portugal', 'Denmark',\n",
       "       'Germany', 'Croatia', 'Mexico', 'Uruguay', 'Switzerland', 'USA',\n",
       "       'Senegal', 'Wales', 'Iran', 'Serbia', 'Morocco', 'Qatar',\n",
       "       'Saudi Arabia', 'Ghana'],\n",
       "      dtype='object', name='country_full')"
      ]
     },
     "execution_count": 33,
     "metadata": {},
     "output_type": "execute_result"
    }
   ],
   "source": [
    "worldcup_rankings.index.unique()"
   ]
  },
  {
   "cell_type": "markdown",
   "metadata": {
    "papermill": {
     "duration": 0.01094,
     "end_time": "2022-11-23T16:47:30.063019",
     "exception": false,
     "start_time": "2022-11-23T16:47:30.052079",
     "status": "completed"
    },
    "tags": []
   },
   "source": [
    "I will save the model predictions on `world_cup` dataframe and `country_win_prob` dictionary. Also, as I'm Korean, I made a separate list to save result on`korea_win_prob` list."
   ]
  },
  {
   "cell_type": "code",
   "execution_count": 34,
   "metadata": {
    "execution": {
     "iopub.execute_input": "2022-11-23T16:47:30.088169Z",
     "iopub.status.busy": "2022-11-23T16:47:30.087673Z",
     "iopub.status.idle": "2022-11-23T16:47:30.097474Z",
     "shell.execute_reply": "2022-11-23T16:47:30.096235Z"
    },
    "papermill": {
     "duration": 0.025645,
     "end_time": "2022-11-23T16:47:30.100117",
     "exception": false,
     "start_time": "2022-11-23T16:47:30.074472",
     "status": "completed"
    },
    "tags": []
   },
   "outputs": [],
   "source": [
    "opponents = ['First match \\nagainst', 'Second match\\n against', 'Third match\\n against']\n",
    "\n",
    "world_cup = teams_df.set_index(['Team'])\n",
    "world_cup['points'] = 0\n",
    "world_cup['total_prob'] = 0\n",
    "world_cup['expected points'] = 0\n",
    "world_cup['rank'] = None\n",
    "\n",
    "country_win_prob = {}\n",
    "\n",
    "for country in teams_df['Team'].unique():\n",
    "    country_win_prob[country] = list()\n"
   ]
  },
  {
   "cell_type": "markdown",
   "metadata": {
    "papermill": {
     "duration": 0.010877,
     "end_time": "2022-11-23T16:47:30.122551",
     "exception": false,
     "start_time": "2022-11-23T16:47:30.111674",
     "status": "completed"
    },
    "tags": []
   },
   "source": [
    "# Group Stage Match Prediction"
   ]
  },
  {
   "cell_type": "code",
   "execution_count": 35,
   "metadata": {
    "execution": {
     "iopub.execute_input": "2022-11-23T16:47:30.146996Z",
     "iopub.status.busy": "2022-11-23T16:47:30.146561Z",
     "iopub.status.idle": "2022-11-23T16:47:30.365503Z",
     "shell.execute_reply": "2022-11-23T16:47:30.363954Z"
    },
    "papermill": {
     "duration": 0.234383,
     "end_time": "2022-11-23T16:47:30.368240",
     "exception": false,
     "start_time": "2022-11-23T16:47:30.133857",
     "status": "completed"
    },
    "tags": []
   },
   "outputs": [
    {
     "name": "stdout",
     "output_type": "stream",
     "text": [
      "___Starting group D:___\n",
      "Denmark vs. Tunisia: Denmark wins with 0.55\n",
      "Denmark vs. France: France wins with 0.59\n",
      "Denmark vs. Australia: Denmark wins with 0.60\n",
      "Tunisia vs. France: France wins with 0.68\n",
      "Tunisia vs. Australia: Draw\n",
      "France vs. Australia: France wins with 0.63\n",
      "___Starting group F:___\n",
      "Morocco vs. Croatia: Croatia wins with 0.60\n",
      "Morocco vs. Belgium: Belgium wins with 0.66\n",
      "Morocco vs. Canada: Morocco wins with 0.55\n",
      "Croatia vs. Belgium: Belgium wins with 0.61\n",
      "Croatia vs. Canada: Croatia wins with 0.60\n",
      "Belgium vs. Canada: Belgium wins with 0.65\n",
      "___Starting group A:___\n",
      "Senegal vs. Qatar: Senegal wins with 0.62\n",
      "Senegal vs. Netherlands: Netherlands wins with 0.61\n",
      "Senegal vs. Ecuador: Senegal wins with 0.59\n",
      "Qatar vs. Netherlands: Netherlands wins with 0.74\n",
      "Qatar vs. Ecuador: Ecuador wins with 0.57\n",
      "Netherlands vs. Ecuador: Netherlands wins with 0.64\n",
      "___Starting group E:___\n",
      "Germany vs. Japan: Draw\n",
      "Germany vs. Spain: Spain wins with 0.58\n",
      "Germany vs. Costa Rica: Germany wins with 0.55\n",
      "Japan vs. Spain: Spain wins with 0.64\n",
      "Japan vs. Costa Rica: Draw\n",
      "Spain vs. Costa Rica: Spain wins with 0.58\n",
      "___Starting group C:___\n",
      "Argentina vs. Saudi Arabia: Argentina wins with 0.69\n",
      "Argentina vs. Mexico: Draw\n",
      "Argentina vs. Poland: Argentina wins with 0.57\n",
      "Saudi Arabia vs. Mexico: Mexico wins with 0.73\n",
      "Saudi Arabia vs. Poland: Poland wins with 0.67\n",
      "Mexico vs. Poland: Draw\n",
      "___Starting group G:___\n",
      "Switzerland vs. Cameroon: Switzerland wins with 0.60\n",
      "Switzerland vs. Brazil: Brazil wins with 0.63\n",
      "Switzerland vs. Serbia: Draw\n",
      "Cameroon vs. Brazil: Brazil wins with 0.75\n",
      "Cameroon vs. Serbia: Serbia wins with 0.65\n",
      "Brazil vs. Serbia: Brazil wins with 0.56\n",
      "___Starting group B:___\n",
      "Iran vs. England: England wins with 0.63\n",
      "Iran vs. USA: USA wins with 0.57\n",
      "Iran vs. Wales: Wales wins with 0.56\n",
      "England vs. USA: Draw\n",
      "England vs. Wales: Draw\n",
      "USA vs. Wales: Draw\n",
      "___Starting group H:___\n",
      "Uruguay vs. South Korea: Draw\n",
      "Uruguay vs. Portugal: Portugal wins with 0.58\n",
      "Uruguay vs. Ghana: Uruguay wins with 0.69\n",
      "South Korea vs. Portugal: Portugal wins with 0.65\n",
      "South Korea vs. Ghana: South Korea wins with 0.62\n",
      "Portugal vs. Ghana: Portugal wins with 0.71\n"
     ]
    }
   ],
   "source": [
    "from itertools import combinations #모든 조합을 만들어주는 함수\n",
    "import numpy as np\n",
    "\n",
    "for group in set(teams_df['Group']):\n",
    "    print('___Starting group {}:___'.format(group))\n",
    "\n",
    "    for home, away in combinations(teams_df.query('Group == \"{}\"'.format(group)).values, 2):\n",
    "        print(\"{} vs. {}: \".format(home[0], away[0]), end='')\n",
    "    \n",
    "        home = home[0]\n",
    "        away = away[0]\n",
    "        \n",
    "        # Create a row for each match\n",
    "        row = pd.DataFrame(np.array([[np.nan, np.nan, np.nan, True, True]]), columns=X_train.columns)\n",
    "\n",
    "        home_rank = worldcup_rankings.loc[home, 'rank']\n",
    "        home_points = worldcup_rankings.loc[home, 'total_points']\n",
    "        opp_rank = worldcup_rankings.loc[away, 'rank']\n",
    "        opp_points = worldcup_rankings.loc[away, 'total_points']\n",
    "        world_cup.loc[home, 'rank'] = home_rank\n",
    "        world_cup.loc[away, 'rank'] = opp_rank\n",
    "\n",
    "        row['average_rank'] = (home_rank + opp_rank) / 2\n",
    "        row['rank_difference'] = home_rank - opp_rank\n",
    "        row['point_difference'] = home_points - opp_points\n",
    "        \n",
    "        # Model Output\n",
    "        home_win_prob = model.predict_proba(row)[:,1][0]  #앞에서 만든 모델이 여기있습니다!!!!!!\n",
    "        \n",
    "        \n",
    "        \n",
    "        # Saving Model Output\n",
    "        world_cup.loc[home, 'total_prob'] += home_win_prob\n",
    "        world_cup.loc[away, 'total_prob'] += 1-home_win_prob\n",
    "\n",
    "        country_win_prob[home].append(home_win_prob)\n",
    "        country_win_prob[away].append(1-home_win_prob)\n",
    "        \n",
    "        # Determining Win / Draw / Lose based on home_win_prob\n",
    "        points = 0\n",
    "        if home_win_prob <= 0.5 - margin:\n",
    "            print(\"{} wins with {:.2f}\".format(away, 1-home_win_prob))\n",
    "            world_cup.loc[away, 'points'] += 3\n",
    "            world_cup.loc[away, 'expected points'] += (1-home_win_prob) * 3\n",
    "        if home_win_prob > 0.5 - margin:\n",
    "            points = 1\n",
    "        if home_win_prob >= 0.5 + margin:\n",
    "            points = 3\n",
    "            world_cup.loc[home, 'points'] += 3\n",
    "            world_cup.loc[home, 'expected points'] += home_win_prob * 3\n",
    "            print(\"{} wins with {:.2f}\".format(home, home_win_prob))\n",
    "        if points == 1:\n",
    "            print(\"Draw\")\n",
    "            world_cup.loc[home, 'points'] += 1\n",
    "            world_cup.loc[away, 'points'] += 1\n",
    "            world_cup.loc[home, 'expected points'] += home_win_prob * 1\n",
    "            world_cup.loc[away, 'expected points'] += (1-home_win_prob) * 1\n",
    "        \n"
   ]
  },
  {
   "cell_type": "markdown",
   "metadata": {
    "papermill": {
     "duration": 0.012154,
     "end_time": "2022-11-23T16:47:30.394376",
     "exception": false,
     "start_time": "2022-11-23T16:47:30.382222",
     "status": "completed"
    },
    "tags": []
   },
   "source": [
    "# Expected Points\n",
    "\n",
    "\n"
   ]
  },
  {
   "cell_type": "code",
   "execution_count": 36,
   "metadata": {
    "execution": {
     "iopub.execute_input": "2022-11-23T16:47:30.420413Z",
     "iopub.status.busy": "2022-11-23T16:47:30.419692Z",
     "iopub.status.idle": "2022-11-23T16:47:30.445094Z",
     "shell.execute_reply": "2022-11-23T16:47:30.443846Z"
    },
    "papermill": {
     "duration": 0.040877,
     "end_time": "2022-11-23T16:47:30.447631",
     "exception": false,
     "start_time": "2022-11-23T16:47:30.406754",
     "status": "completed"
    },
    "tags": []
   },
   "outputs": [
    {
     "name": "stdout",
     "output_type": "stream",
     "text": [
      "___Starting group D:___\n",
      "Denmark :  3.4485978500610264\n",
      "Tunisia :  0.4945877992220572\n",
      "France :  5.6968865330160385\n",
      "Australia :  0.5054122007779428\n",
      "___Starting group F:___\n",
      "Morocco :  1.6526449812661035\n",
      "Croatia :  3.6146314412505065\n",
      "Belgium :  5.767839155611677\n",
      "Canada :  0.0\n",
      "___Starting group A:___\n",
      "Senegal :  3.607996545812265\n",
      "Qatar :  0.0\n",
      "Netherlands :  5.95966857516105\n",
      "Ecuador :  1.7127215169764831\n",
      "___Starting group E:___\n",
      "Germany :  2.178141394621764\n",
      "Japan :  0.9728076701631958\n",
      "Spain :  5.380953594716829\n",
      "Costa Rica :  0.511359888856254\n",
      "___Starting group C:___\n",
      "Argentina :  4.286353942719144\n",
      "Saudi Arabia :  0.0\n",
      "Mexico :  3.1963192020317845\n",
      "Poland :  2.48127136903388\n",
      "___Starting group G:___\n",
      "Switzerland :  2.27060128785121\n",
      "Cameroon :  0.0\n",
      "Brazil :  5.810936160477051\n",
      "Serbia :  2.482411222170501\n",
      "___Starting group B:___\n",
      "Iran :  0.0\n",
      "England :  2.922749501335204\n",
      "USA :  2.684023695448681\n",
      "Wales :  2.683255915396363\n",
      "___Starting group H:___\n",
      "Uruguay :  2.589999652646093\n",
      "South Korea :  2.3520097476957256\n",
      "Portugal :  5.81629600191548\n",
      "Ghana :  0.0\n"
     ]
    }
   ],
   "source": [
    "for group in set(teams_df['Group']):\n",
    "    print('___Starting group {}:___'.format(group))\n",
    "    teams = teams_df.query('Group == \"{}\"'.format(group)).values\n",
    "    for team_info in teams:\n",
    "        team_name = team_info[0]\n",
    "        print(team_name, \": \", world_cup.loc[team_name, \"expected points\"])"
   ]
  },
  {
   "cell_type": "markdown",
   "metadata": {
    "papermill": {
     "duration": 0.011134,
     "end_time": "2022-11-23T16:47:30.470441",
     "exception": false,
     "start_time": "2022-11-23T16:47:30.459307",
     "status": "completed"
    },
    "tags": []
   },
   "source": [
    "# Group Stage Survival Probability\n",
    "\n",
    "I calculated each country's probability to survive in Group Stage.\n",
    "\n",
    "I assumed if a country has 2 or more wins, then they survive in Group Stage."
   ]
  },
  {
   "cell_type": "code",
   "execution_count": 37,
   "metadata": {
    "execution": {
     "iopub.execute_input": "2022-11-23T16:47:30.495966Z",
     "iopub.status.busy": "2022-11-23T16:47:30.495207Z",
     "iopub.status.idle": "2022-11-23T16:47:30.504677Z",
     "shell.execute_reply": "2022-11-23T16:47:30.503309Z"
    },
    "papermill": {
     "duration": 0.02598,
     "end_time": "2022-11-23T16:47:30.507898",
     "exception": false,
     "start_time": "2022-11-23T16:47:30.481918",
     "status": "completed"
    },
    "tags": []
   },
   "outputs": [
    {
     "name": "stdout",
     "output_type": "stream",
     "text": [
      "Senegal : 0.52381235555109\n",
      "Qatar : 0.28657994414763277\n",
      "Netherlands : 0.720712313658689\n",
      "Ecuador : 0.4107822279220527\n",
      "Iran : 0.36831897628115384\n",
      "England : 0.5691708021782123\n",
      "USA : 0.5126970678459444\n",
      "Wales : 0.5323556070273114\n",
      "Argentina : 0.6086463678095059\n",
      "Saudi Arabia : 0.22215428639701704\n",
      "Mexico : 0.5868558522665446\n",
      "Poland : 0.512856708259424\n",
      "Denmark : 0.5151762204409143\n",
      "Tunisia : 0.3721040502951261\n",
      "France : 0.6893043301262852\n",
      "Australia : 0.3877831877546304\n",
      "Germany : 0.48938595489368153\n",
      "Japan : 0.41097390771037773\n",
      "Spain : 0.6419635779920854\n",
      "Costa Rica : 0.43841533837914887\n",
      "Morocco : 0.38199557056817124\n",
      "Croatia : 0.5217642297484985\n",
      "Belgium : 0.7041053684174781\n",
      "Canada : 0.3482241700140098\n",
      "Switzerland : 0.45510860867745034\n",
      "Cameroon : 0.25700333565836286\n",
      "Brazil : 0.687894653425928\n",
      "Serbia : 0.5383228703970192\n",
      "Uruguay : 0.5313857116348004\n",
      "South Korea : 0.4508112745271974\n",
      "Portugal : 0.7025008859381349\n",
      "Ghana : 0.24790543284071997\n"
     ]
    }
   ],
   "source": [
    "country_total_prob = []\n",
    "\n",
    "for country in country_win_prob.keys():\n",
    "\n",
    "    win_prob_list = country_win_prob[country]\n",
    "\n",
    "    total_prob = 0\n",
    "    temp = 1\n",
    "    for i in range(3):\n",
    "        temp = temp * win_prob_list[i]\n",
    "\n",
    "    total_prob += temp\n",
    "\n",
    "    for i in range(3):\n",
    "        temp = 1\n",
    "        for j in range(3):\n",
    "            if i == j:\n",
    "                temp = temp * (1 - win_prob_list[i])\n",
    "            else:\n",
    "                temp = temp * win_prob_list[i]\n",
    "        total_prob += temp\n",
    "    \n",
    "    country_total_prob.append((country, total_prob))\n",
    "    \n",
    "    print(country, \":\", total_prob)"
   ]
  },
  {
   "cell_type": "markdown",
   "metadata": {
    "papermill": {
     "duration": 0.011562,
     "end_time": "2022-11-23T16:47:30.532313",
     "exception": false,
     "start_time": "2022-11-23T16:47:30.520751",
     "status": "completed"
    },
    "tags": []
   },
   "source": [
    "Let's sort `country_total_prob` to see which country has the highest probability to survive the group stage."
   ]
  },
  {
   "cell_type": "code",
   "execution_count": 38,
   "metadata": {
    "execution": {
     "iopub.execute_input": "2022-11-23T16:47:30.558392Z",
     "iopub.status.busy": "2022-11-23T16:47:30.557996Z",
     "iopub.status.idle": "2022-11-23T16:47:30.567297Z",
     "shell.execute_reply": "2022-11-23T16:47:30.565897Z"
    },
    "papermill": {
     "duration": 0.025483,
     "end_time": "2022-11-23T16:47:30.570017",
     "exception": false,
     "start_time": "2022-11-23T16:47:30.544534",
     "status": "completed"
    },
    "tags": []
   },
   "outputs": [
    {
     "data": {
      "text/plain": [
       "[('Netherlands', 0.720712313658689),\n",
       " ('Belgium', 0.7041053684174781),\n",
       " ('Portugal', 0.7025008859381349),\n",
       " ('France', 0.6893043301262852),\n",
       " ('Brazil', 0.687894653425928),\n",
       " ('Spain', 0.6419635779920854),\n",
       " ('Argentina', 0.6086463678095059),\n",
       " ('Mexico', 0.5868558522665446),\n",
       " ('England', 0.5691708021782123),\n",
       " ('Serbia', 0.5383228703970192),\n",
       " ('Wales', 0.5323556070273114),\n",
       " ('Uruguay', 0.5313857116348004),\n",
       " ('Senegal', 0.52381235555109),\n",
       " ('Croatia', 0.5217642297484985),\n",
       " ('Denmark', 0.5151762204409143),\n",
       " ('Poland', 0.512856708259424),\n",
       " ('USA', 0.5126970678459444),\n",
       " ('Germany', 0.48938595489368153),\n",
       " ('Switzerland', 0.45510860867745034),\n",
       " ('South Korea', 0.4508112745271974),\n",
       " ('Costa Rica', 0.43841533837914887),\n",
       " ('Japan', 0.41097390771037773),\n",
       " ('Ecuador', 0.4107822279220527),\n",
       " ('Australia', 0.3877831877546304),\n",
       " ('Morocco', 0.38199557056817124),\n",
       " ('Tunisia', 0.3721040502951261),\n",
       " ('Iran', 0.36831897628115384),\n",
       " ('Canada', 0.3482241700140098),\n",
       " ('Qatar', 0.28657994414763277),\n",
       " ('Cameroon', 0.25700333565836286),\n",
       " ('Ghana', 0.24790543284071997),\n",
       " ('Saudi Arabia', 0.22215428639701704)]"
      ]
     },
     "execution_count": 38,
     "metadata": {},
     "output_type": "execute_result"
    }
   ],
   "source": [
    "country_total_prob = sorted(country_total_prob, key=lambda x: x[1], reverse=True)\n",
    "\n",
    "country_total_prob"
   ]
  },
  {
   "cell_type": "code",
   "execution_count": 39,
   "metadata": {
    "execution": {
     "iopub.execute_input": "2022-11-23T16:47:30.595431Z",
     "iopub.status.busy": "2022-11-23T16:47:30.595021Z",
     "iopub.status.idle": "2022-11-23T16:47:31.157032Z",
     "shell.execute_reply": "2022-11-23T16:47:31.155793Z"
    },
    "papermill": {
     "duration": 0.577977,
     "end_time": "2022-11-23T16:47:31.159903",
     "exception": false,
     "start_time": "2022-11-23T16:47:30.581926",
     "status": "completed"
    },
    "tags": []
   },
   "outputs": [
    {
     "data": {
      "text/plain": [
       "<AxesSubplot:xlabel='Country'>"
      ]
     },
     "execution_count": 39,
     "metadata": {},
     "output_type": "execute_result"
    },
    {
     "data": {
      "image/png": "[encoded data removed]",
      "text/plain": [
       "<Figure size 1440x720 with 1 Axes>"
      ]
     },
     "metadata": {
      "needs_background": "light"
     },
     "output_type": "display_data"
    }
   ],
   "source": [
    "prob_df = pd.DataFrame(country_total_prob, columns =['Country', 'Probability']) \n",
    "\n",
    "prob_df.plot(x=\"Country\", y=\"Probability\", kind=\"bar\", figsize=(20,10))\n"
   ]
  },
  {
   "cell_type": "markdown",
   "metadata": {
    "papermill": {
     "duration": 0.012883,
     "end_time": "2022-11-23T16:47:31.185427",
     "exception": false,
     "start_time": "2022-11-23T16:47:31.172544",
     "status": "completed"
    },
    "tags": []
   },
   "source": [
    "# End of the Notebook\n",
    "\n",
    "Thanks for Reading!\n",
    "\n",
    "If it was interesting to you, please give an upvote :D"
   ]
  },
  {
   "cell_type": "code",
   "execution_count": null,
   "metadata": {
    "papermill": {
     "duration": 0.012093,
     "end_time": "2022-11-23T16:47:31.209971",
     "exception": false,
     "start_time": "2022-11-23T16:47:31.197878",
     "status": "completed"
    },
    "tags": []
   },
   "outputs": [],
   "source": []
  }
 ],
 "metadata": {
  "kernelspec": {
   "display_name": "Python 3",
   "language": "python",
   "name": "python3"
  },
  "language_info": {
   "codemirror_mode": {
    "name": "ipython",
    "version": 3
   },
   "file_extension": ".py",
   "mimetype": "text/x-python",
   "name": "python",
   "nbconvert_exporter": "python",
   "pygments_lexer": "ipython3",
   "version": "3.8.5"
  },
  "papermill": {
   "default_parameters": {},
   "duration": 41.617227,
   "end_time": "2022-11-23T16:47:32.045304",
   "environment_variables": {},
   "exception": null,
   "input_path": "__notebook__.ipynb",
   "output_path": "__notebook__.ipynb",
   "parameters": {},
   "start_time": "2022-11-23T16:46:50.428077",
   "version": "2.3.4"
  }
 },
 "nbformat": 4,
 "nbformat_minor": 5
}
