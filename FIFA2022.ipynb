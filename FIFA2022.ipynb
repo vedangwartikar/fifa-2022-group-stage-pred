{
 "cells": [
  {
   "cell_type": "markdown",
   "metadata": {},
   "source": [
    "# CS 6375 Machine Learning Project"
   ]
  },
  {
   "cell_type": "markdown",
   "metadata": {},
   "source": [
    "## 1. Getting the required Libraries"
   ]
  },
  {
   "cell_type": "code",
   "execution_count": 9,
   "metadata": {},
   "outputs": [],
   "source": [
    "import pandas as pd\n",
    "import numpy as np\n",
    "import math\n",
    "import matplotlib.pyplot as plt\n",
    "from itertools import combinations\n",
    "import collections\n",
    "from matplotlib.figure import Figure\n",
    "from matplotlib.ticker import MaxNLocator\n",
    "\n",
    "from sklearn.model_selection import train_test_split\n",
    "from sklearn.linear_model import LogisticRegression\n",
    "from sklearn.tree import DecisionTreeClassifier\n",
    "from sklearn.naive_bayes import BernoulliNB\n",
    "from sklearn.neighbors import KNeighborsClassifier\n",
    "from sklearn.svm import SVC\n",
    "from sklearn import model_selection\n",
    "from sklearn import metrics\n",
    "from sklearn.metrics import classification_report\n",
    "from sklearn.metrics import confusion_matrix\n",
    "from sklearn.metrics import plot_confusion_matrix"
   ]
  },
  {
   "cell_type": "markdown",
   "metadata": {},
   "source": [
    "## 2. Data Preprocessing"
   ]
  },
  {
   "cell_type": "code",
   "execution_count": 10,
   "metadata": {},
   "outputs": [],
   "source": [
    "match_df = pd.read_csv(\"data/international_matches.csv\")\n",
    "rank_df = pd.read_csv(\"data/fifa_ranking_2022.csv\")\n",
    "# worldcup_schedule_df = pd.read_csv(\"data/matchs-schudule.csv\", sep=\";\")\n",
    "teams_df = pd.read_csv(\"data/world_cup_teams.csv\", sep=\";\")"
   ]
  },
  {
   "cell_type": "code",
   "execution_count": 12,
   "metadata": {},
   "outputs": [
    {
     "name": "stdout",
     "output_type": "stream",
     "text": [
      "\n",
      "======================================== MATCHES DETAILS ========================================\n",
      "\n",
      "<class 'pandas.core.frame.DataFrame'>\n",
      "RangeIndex: 23921 entries, 0 to 23920\n",
      "Data columns (total 25 columns):\n",
      " #   Column                         Non-Null Count  Dtype  \n",
      "---  ------                         --------------  -----  \n",
      " 0   date                           23921 non-null  object \n",
      " 1   home_team                      23921 non-null  object \n",
      " 2   away_team                      23921 non-null  object \n",
      " 3   home_team_continent            23921 non-null  object \n",
      " 4   away_team_continent            23921 non-null  object \n",
      " 5   home_team_fifa_rank            23921 non-null  int64  \n",
      " 6   away_team_fifa_rank            23921 non-null  int64  \n",
      " 7   home_team_total_fifa_points    23921 non-null  int64  \n",
      " 8   away_team_total_fifa_points    23921 non-null  int64  \n",
      " 9   home_team_score                23921 non-null  int64  \n",
      " 10  away_team_score                23921 non-null  int64  \n",
      " 11  tournament                     23921 non-null  object \n",
      " 12  city                           23921 non-null  object \n",
      " 13  country                        23921 non-null  object \n",
      " 14  neutral_location               23921 non-null  bool   \n",
      " 15  shoot_out                      23921 non-null  object \n",
      " 16  home_team_result               23921 non-null  object \n",
      " 17  home_team_goalkeeper_score     8379 non-null   float64\n",
      " 18  away_team_goalkeeper_score     8095 non-null   float64\n",
      " 19  home_team_mean_defense_score   7787 non-null   float64\n",
      " 20  home_team_mean_offense_score   8510 non-null   float64\n",
      " 21  home_team_mean_midfield_score  8162 non-null   float64\n",
      " 22  away_team_mean_defense_score   7564 non-null   float64\n",
      " 23  away_team_mean_offense_score   8312 non-null   float64\n",
      " 24  away_team_mean_midfield_score  7979 non-null   float64\n",
      "dtypes: bool(1), float64(8), int64(6), object(10)\n",
      "memory usage: 4.4+ MB\n",
      "None\n",
      "\n",
      "======================================== COUNTRY RANKINGS ========================================\n",
      "\n",
      "   rank  country_full country_abrv  total_points  previous_points  \\\n",
      "0     1       Germany          GER          57.0              0.0   \n",
      "1    96         Syria          SYR          11.0              0.0   \n",
      "2    97  Burkina Faso          BFA          11.0              0.0   \n",
      "3    99        Latvia          LVA          10.0              0.0   \n",
      "4   100       Burundi          BDI          10.0              0.0   \n",
      "\n",
      "   rank_change confederation   rank_date  \n",
      "0            0          UEFA  1992-12-31  \n",
      "1            0           AFC  1992-12-31  \n",
      "2            0           CAF  1992-12-31  \n",
      "3            0          UEFA  1992-12-31  \n",
      "4            0           CAF  1992-12-31  \n",
      "\n",
      "======================================== WORLD CUP TEAMS AND GROUPS ========================================\n",
      "\n",
      "          Team Group\n",
      "0      Senegal     A\n",
      "1        Qatar     A\n",
      "2  Netherlands     A\n",
      "3      Ecuador     A\n",
      "4         Iran     B\n"
     ]
    }
   ],
   "source": [
    "print(\"\\n======================================== MATCHES DETAILS ========================================\\n\")\n",
    "print(match_df.info())\n",
    "# print(list(match_df))\n",
    "\n",
    "print(\"\\n======================================== COUNTRY RANKINGS ========================================\\n\")\n",
    "print(rank_df.head())\n",
    "\n",
    "print(\"\\n======================================== WORLD CUP TEAMS AND GROUPS ========================================\\n\")\n",
    "print(teams_df.head())"
   ]
  },
  {
   "cell_type": "code",
   "execution_count": 13,
   "metadata": {},
   "outputs": [
    {
     "name": "stdout",
     "output_type": "stream",
     "text": [
      "\n",
      "======================================== PROCESSED WORLD CUP MATCHES DATAFRAME ========================================\n",
      "\n",
      "<class 'pandas.core.frame.DataFrame'>\n",
      "Int64Index: 5960 entries, 0 to 23890\n",
      "Data columns (total 8 columns):\n",
      " #   Column                       Non-Null Count  Dtype \n",
      "---  ------                       --------------  ----- \n",
      " 0   home_team_fifa_rank          5960 non-null   int64 \n",
      " 1   away_team_fifa_rank          5960 non-null   int64 \n",
      " 2   home_team_total_fifa_points  5960 non-null   int64 \n",
      " 3   away_team_total_fifa_points  5960 non-null   int64 \n",
      " 4   tournament                   5960 non-null   object\n",
      " 5   home_team_score              5960 non-null   int64 \n",
      " 6   away_team_score              5960 non-null   int64 \n",
      " 7   match_outcome                5960 non-null   int64 \n",
      "dtypes: int64(7), object(1)\n",
      "memory usage: 419.1+ KB\n",
      "\n",
      "['home_team_fifa_rank', 'away_team_fifa_rank', 'home_team_total_fifa_points', 'away_team_total_fifa_points', 'tournament', 'home_team_score', 'away_team_score', 'match_outcome']\n"
     ]
    },
    {
     "data": {
      "image/png": "[encoded data removed]",
      "text/plain": [
       "<Figure size 432x288 with 1 Axes>"
      ]
     },
     "metadata": {},
     "output_type": "display_data"
    },
    {
     "data": {
      "text/plain": [
       "<Figure size 432x288 with 0 Axes>"
      ]
     },
     "metadata": {},
     "output_type": "display_data"
    }
   ],
   "source": [
    "match_df['rank_difference'] = match_df['home_team_fifa_rank'] - match_df['away_team_fifa_rank']\n",
    "match_df['average_rank'] = (match_df['home_team_fifa_rank'] + match_df['away_team_fifa_rank'])/2\n",
    "match_df['point_difference'] = match_df['home_team_total_fifa_points'] - match_df['away_team_total_fifa_points']\n",
    "# match_df['offense_difference'] = match_df['home_team_mean_offense_score'] - match_df['away_team_mean_offense_score']\n",
    "# match_df['defense_difference'] = match_df['home_team_mean_defense_score'] - match_df['away_team_mean_defense_score']\n",
    "# match_df['goalkeeper_difference'] = match_df['home_team_goalkeeper_score'] - match_df['away_team_goalkeeper_score']\n",
    "match_df['is_stake'] = match_df['tournament'] != 'Friendly'\n",
    "match_df['is_worldcup'] = True\n",
    "match_df = match_df[match_df['tournament'].str.contains(\"FIFA World Cup\")]\n",
    "\n",
    "match_df = match_df.replace({\"IR Iran\": \"Iran\", \"Korea Republic\": \"South Korea\"})\n",
    "rank_df = rank_df.replace({\"IR Iran\": \"Iran\", \"Korea Republic\": \"South Korea\"})\n",
    "\n",
    "match_df['score_difference'] = match_df['home_team_score'] - match_df['away_team_score'] # Note that this feature is not used in training\n",
    "\n",
    "match_df['tournament'].value_counts()\n",
    "\n",
    "def transform_match_outcome(result):\n",
    "    if int(result) > 0:\n",
    "        return 1\n",
    "    else:\n",
    "        return 0\n",
    "\n",
    "match_df['match_outcome'] = match_df['score_difference'].map(transform_match_outcome)\n",
    "\n",
    "# print(match_df['score_difference'])\n",
    "# print(match_df['match_outcome'])\n",
    "# match_df = match_df.fillna(0)\n",
    "print(\"\\n======================================== PROCESSED WORLD CUP MATCHES DATAFRAME ========================================\\n\")\n",
    "# print(list(match_df))\n",
    "# match_df['date'] = pd.to_datetime(match_df['date'])\n",
    "# match_df = match_df[~(match_df['date'] < '2011-08-21')]\n",
    "feature_df = match_df.loc[:,['home_team_fifa_rank', 'away_team_fifa_rank', 'home_team_total_fifa_points', 'away_team_total_fifa_points', 'tournament', 'home_team_score', 'away_team_score', 'match_outcome']]\n",
    "feature_df.info()\n",
    "print()\n",
    "print(list(feature_df))\n",
    "import matplotlib.pyplot as plt\n",
    "\n",
    "# Pie chart, where the slices will be ordered and plotted counter-clockwise:\n",
    "labels = 'home_team_fifa_rank', 'away_team_fifa_rank', 'home_team_total_fifa_points', 'away_team_total_fifa_points', 'tournament', 'home_team_score', 'away_team_score', 'match_outcome \\n(target class)'\n",
    "sizes = [12.5, 12.5, 12.5, 12.5, 12.5, 12.5, 12.5, 12.5]\n",
    "explode = (0, 0, 0, 0, 0, 0, 0, 0.20)  # only \"explode\" the 2nd slice (i.e. 'Hogs')\n",
    "\n",
    "fig1, ax1 = plt.subplots()\n",
    "ax1.pie(sizes, explode=explode, labels=labels,\n",
    "        shadow=True, startangle=90)\n",
    "ax1.axis('equal')  # Equal aspect ratio ensures that pie is drawn as a circle.\n",
    "\n",
    "plt.show()\n",
    "# plt.savefig('features.eps', format='eps')\n",
    "plt.clf()"
   ]
  },
  {
   "cell_type": "code",
   "execution_count": 14,
   "metadata": {},
   "outputs": [
    {
     "data": {
      "text/plain": [
       "(       average_rank  rank_difference  point_difference\n",
       " 0              40.5               37                 0\n",
       " 2              64.5              -59                 0\n",
       " 4              36.0               62                 0\n",
       " 5              44.5               51                 0\n",
       " 10             49.0                6                 0\n",
       " ...             ...              ...               ...\n",
       " 23634         126.5               31               -89\n",
       " 23654          33.0               12               -63\n",
       " 23723          22.5               -9                53\n",
       " 23876          32.0               20              -100\n",
       " 23890          66.0              -70               297\n",
       " \n",
       " [5960 rows x 3 columns],\n",
       " 0        1\n",
       " 2        1\n",
       " 4        0\n",
       " 5        0\n",
       " 10       1\n",
       "         ..\n",
       " 23634    0\n",
       " 23654    0\n",
       " 23723    1\n",
       " 23876    0\n",
       " 23890    1\n",
       " Name: match_outcome, Length: 5960, dtype: int64)"
      ]
     },
     "execution_count": 14,
     "metadata": {},
     "output_type": "execute_result"
    }
   ],
   "source": [
    "X, y = match_df.loc[:,['average_rank', 'rank_difference', 'point_difference', \\\n",
    "                        # 'offense_difference', 'defense_difference', 'goalkeeper_difference' \\\n",
    "                        ]], match_df['match_outcome']\n",
    "X_train, X_test, y_train, y_test = train_test_split(\n",
    "    X, y, test_size=0.3, random_state=64)\n",
    "X, y"
   ]
  },
  {
   "cell_type": "markdown",
   "metadata": {},
   "source": [
    "## 3. Comparisons between Algorithms"
   ]
  },
  {
   "cell_type": "markdown",
   "metadata": {},
   "source": [
    "### 3.a.Train VS Test Accuracies"
   ]
  },
  {
   "cell_type": "code",
   "execution_count": 15,
   "metadata": {},
   "outputs": [
    {
     "data": {
      "image/png": "[encoded data removed]",
      "text/plain": [
       "<Figure size 540x360 with 1 Axes>"
      ]
     },
     "metadata": {
      "needs_background": "light"
     },
     "output_type": "display_data"
    },
    {
     "data": {
      "text/plain": [
       "<Figure size 540x360 with 0 Axes>"
      ]
     },
     "metadata": {},
     "output_type": "display_data"
    }
   ],
   "source": [
    "model_names = ['Logistic Regression', 'Decision Tree', 'Naive Bayes', 'KNN', 'SVM']\n",
    "model_classes = [LogisticRegression(), DecisionTreeClassifier(), BernoulliNB(), KNeighborsClassifier(), SVC()]\n",
    "\n",
    "def get_accuracies(model_object):\n",
    "    model = model_object\n",
    "#     print(model)\n",
    "    model.fit(X_train, y_train)\n",
    "    train_acc = model.score(X_train, y_train)*100\n",
    "    test_acc = model.score(X_test, y_test)*100\n",
    "    return train_acc, test_acc\n",
    "\n",
    "train_accuracies, test_accuracies = [], []\n",
    "for each_model in model_classes:\n",
    "    train_acc, test_acc = get_accuracies(each_model)\n",
    "    train_accuracies.append(train_acc)\n",
    "    test_accuracies.append(test_acc)\n",
    "#     print(train_acc, test_acc)\n",
    "\n",
    "train_accuracies, test_accuracies\n",
    "  \n",
    "X_axis = np.arange(len(model_names))\n",
    "\n",
    "plt.rcParams[\"figure.figsize\"] = [7.5, 5]\n",
    "plt.rcParams[\"figure.autolayout\"] = True\n",
    "\n",
    "plt.bar(X_axis - 0.2, train_accuracies, 0.4, label = 'Train Accuracy')\n",
    "plt.bar(X_axis + 0.2, test_accuracies, 0.4, label = 'Test Accuracy')\n",
    "\n",
    "plt.xticks(X_axis, model_names)\n",
    "plt.xlabel(\"Algorithm\")\n",
    "plt.ylabel(\"Accuracy\")\n",
    "plt.suptitle(\"Train/Test accuracues compared accross various models\")\n",
    "plt.legend()\n",
    "plt.show()\n",
    "# plt.savefig('accuracies.eps', format='eps')\n",
    "plt.clf()"
   ]
  },
  {
   "cell_type": "markdown",
   "metadata": {},
   "source": [
    "### 3.b. 10-Fold Cross Validation"
   ]
  },
  {
   "cell_type": "code",
   "execution_count": 16,
   "metadata": {},
   "outputs": [
    {
     "data": {
      "image/png": "[encoded data removed]",
      "text/plain": [
       "<Figure size 540x360 with 1 Axes>"
      ]
     },
     "metadata": {
      "needs_background": "light"
     },
     "output_type": "display_data"
    }
   ],
   "source": [
    "models = []\n",
    "model_names = ['Logistic Regression', 'Decision Tree', 'Naive Bayes', 'KNN', 'SVM']\n",
    "model_classes = [LogisticRegression(), DecisionTreeClassifier(), BernoulliNB(), KNeighborsClassifier(), SVC()]\n",
    "for name, model in zip(model_names, model_classes):\n",
    "    models.append((name, model))\n",
    "results, names = [], []\n",
    "scoring = 'accuracy'\n",
    "for name, model in models:\n",
    "\tkfold = model_selection.KFold(n_splits=10)\n",
    "\tcv_results = model_selection.cross_val_score(model, X, y, cv=kfold, scoring=scoring)\n",
    "\tresults.append(cv_results*100)\n",
    "\tnames.append(name)\n",
    "fig = plt.figure()\n",
    "fig.suptitle('Algorithm Comparison (10-Fold Cross Validation)')\n",
    "ax = fig.add_subplot(111)\n",
    "plt.boxplot(results)\n",
    "ax.set_xticklabels(names)\n",
    "plt.show()\n",
    "# plt.savefig('cross_validation.eps', format='eps')"
   ]
  },
  {
   "cell_type": "markdown",
   "metadata": {},
   "source": [
    "### 3.c. ROC/AUC Curves"
   ]
  },
  {
   "cell_type": "code",
   "execution_count": 17,
   "metadata": {},
   "outputs": [
    {
     "data": {
      "image/png": "[encoded data removed]",
      "text/plain": [
       "<Figure size 540x360 with 1 Axes>"
      ]
     },
     "metadata": {
      "needs_background": "light"
     },
     "output_type": "display_data"
    },
    {
     "data": {
      "text/plain": [
       "<Figure size 540x360 with 0 Axes>"
      ]
     },
     "metadata": {},
     "output_type": "display_data"
    }
   ],
   "source": [
    "model_names = ['Logistic Regression', 'Decision Tree', 'Naive Bayes', 'KNN', 'SVM']\n",
    "model_classes = [LogisticRegression(), DecisionTreeClassifier(), BernoulliNB(), KNeighborsClassifier(), SVC(probability=True)]\n",
    "\n",
    "def plot_roc(name, model):\n",
    "    model.fit(X_train, y_train)\n",
    "    y_pred = model.predict_proba(X_test)[:, 1]\n",
    "    fpr, tpr, _ = metrics.roc_curve(y_test, y_pred)\n",
    "    auc = round(metrics.roc_auc_score(y_test, y_pred), 4)\n",
    "    plt.plot(fpr,tpr,label=\"{}, AUC={}%\".format(name, str(round(auc*100, 2))))\n",
    "\n",
    "for name, model in zip(model_names, model_classes):\n",
    "    plot_roc(name, model)\n",
    "\n",
    "plt.suptitle('ROC Curves for Algorithms')\n",
    "plt.legend()\n",
    "plt.grid()\n",
    "plt.show()\n",
    "# plt.savefig('roc.eps', format='eps')\n",
    "plt.clf()"
   ]
  },
  {
   "cell_type": "markdown",
   "metadata": {},
   "source": [
    "### 3.d. AdaBoost with Decision Trees"
   ]
  },
  {
   "cell_type": "code",
   "execution_count": 38,
   "metadata": {},
   "outputs": [
    {
     "data": {
      "image/png": "[encoded data removed]",
      "text/plain": [
       "<Figure size 540x360 with 1 Axes>"
      ]
     },
     "metadata": {
      "needs_background": "light"
     },
     "output_type": "display_data"
    },
    {
     "data": {
      "text/plain": [
       "<Figure size 540x360 with 0 Axes>"
      ]
     },
     "metadata": {},
     "output_type": "display_data"
    }
   ],
   "source": [
    "from sklearn.ensemble import AdaBoostClassifier\n",
    "from sklearn.tree import DecisionTreeRegressor\n",
    "import matplotlib.pyplot as plt\n",
    "import seaborn as sns\n",
    "\n",
    "depths = 20\n",
    "dt_acc, boosted_dt_acc = [], []\n",
    "for depth in range(1, depths+1, 1):\n",
    "    regr_1 = DecisionTreeClassifier(max_depth=depths)\n",
    "\n",
    "    regr_2 = AdaBoostClassifier(DecisionTreeClassifier(max_depth=depths))\n",
    "\n",
    "    regr_1.fit(X_train, y_train)\n",
    "    regr_2.fit(X_train, y_train)\n",
    "\n",
    "    y_1 = regr_1.score(X_test, y_test)*100\n",
    "    y_2 = regr_2.score(X_test, y_test)*100\n",
    "\n",
    "#     print(y_1, y_2)\n",
    "    dt_acc.append(y_1)\n",
    "    boosted_dt_acc.append(y_2)\n",
    "\n",
    "import matplotlib.pyplot as plt\n",
    "import numpy as np\n",
    "\n",
    "plt.plot(dt_acc, label = 'Decision Tree', linestyle='--', marker='D')\n",
    "plt.plot(boosted_dt_acc, label = 'Boosted Decision Tree', linestyle='--', marker='D')\n",
    "plt.axhline(y=np.nanmean(dt_acc), color='red', linestyle='-.', linewidth=3, label='Average for DTs')\n",
    "plt.axhline(y=np.nanmean(boosted_dt_acc), color='blue', linestyle='-.', linewidth=3, label='Average for Boosted DTs')\n",
    "\n",
    "plt.rcParams[\"figure.figsize\"] = [7.5, 5]\n",
    "plt.rcParams[\"figure.autolayout\"] = True\n",
    "\n",
    "plt.suptitle('Decision Trees VS Boosted Decision Trees')\n",
    "plt.xlabel('Depth')\n",
    "plt.ylabel('Accuracy')\n",
    "plt.legend(loc='upper right', prop={'size': 7})\n",
    "plt.axes().xaxis.set_major_locator(MaxNLocator(integer=True))\n",
    "plt.grid()\n",
    "plt.show()\n",
    "# plt.savefig('boosted_dt.eps', format='eps')\n",
    "plt.clf()"
   ]
  },
  {
   "cell_type": "markdown",
   "metadata": {},
   "source": [
    "### 3.e. Confusion Matrix, Precision, Recall and F-1 Score"
   ]
  },
  {
   "cell_type": "code",
   "execution_count": 19,
   "metadata": {},
   "outputs": [
    {
     "name": "stdout",
     "output_type": "stream",
     "text": [
      "\n",
      "================================ Logistic Regression ================================\n",
      "Confusion Matrix: \n",
      "\n",
      "              Loss/Draw       Win \n",
      "    Loss/Draw       654       238 \n",
      "          Win       260       636 \n",
      "\n",
      "Metrics: \n",
      "\n",
      "              precision    recall  f1-score   support\n",
      "\n",
      "   Loss/Draw       0.72      0.73      0.72       892\n",
      "         Win       0.73      0.71      0.72       896\n",
      "\n",
      "    accuracy                           0.72      1788\n",
      "   macro avg       0.72      0.72      0.72      1788\n",
      "weighted avg       0.72      0.72      0.72      1788\n",
      "\n",
      "\n",
      "================================ Decision Tree ================================\n",
      "Confusion Matrix: \n",
      "\n",
      "              Loss/Draw       Win \n",
      "    Loss/Draw       597       295 \n",
      "          Win       358       538 \n",
      "\n",
      "Metrics: \n",
      "\n",
      "              precision    recall  f1-score   support\n",
      "\n",
      "   Loss/Draw       0.63      0.67      0.65       892\n",
      "         Win       0.65      0.60      0.62       896\n",
      "\n",
      "    accuracy                           0.63      1788\n",
      "   macro avg       0.64      0.63      0.63      1788\n",
      "weighted avg       0.64      0.63      0.63      1788\n",
      "\n",
      "\n",
      "================================ Naive Bayes ================================\n",
      "Confusion Matrix: \n",
      "\n",
      "              Loss/Draw       Win \n",
      "    Loss/Draw       641       251 \n",
      "          Win       243       653 \n",
      "\n",
      "Metrics: \n",
      "\n",
      "              precision    recall  f1-score   support\n",
      "\n",
      "   Loss/Draw       0.73      0.72      0.72       892\n",
      "         Win       0.72      0.73      0.73       896\n",
      "\n",
      "    accuracy                           0.72      1788\n",
      "   macro avg       0.72      0.72      0.72      1788\n",
      "weighted avg       0.72      0.72      0.72      1788\n",
      "\n",
      "\n",
      "================================ KNN ================================\n",
      "Confusion Matrix: \n",
      "\n",
      "              Loss/Draw       Win \n",
      "    Loss/Draw       618       274 \n",
      "          Win       279       617 \n",
      "\n",
      "Metrics: \n",
      "\n",
      "              precision    recall  f1-score   support\n",
      "\n",
      "   Loss/Draw       0.69      0.69      0.69       892\n",
      "         Win       0.69      0.69      0.69       896\n",
      "\n",
      "    accuracy                           0.69      1788\n",
      "   macro avg       0.69      0.69      0.69      1788\n",
      "weighted avg       0.69      0.69      0.69      1788\n",
      "\n",
      "\n",
      "================================ SVM ================================\n",
      "Confusion Matrix: \n",
      "\n",
      "              Loss/Draw       Win \n",
      "    Loss/Draw       648       244 \n",
      "          Win       252       644 \n",
      "\n",
      "Metrics: \n",
      "\n",
      "              precision    recall  f1-score   support\n",
      "\n",
      "   Loss/Draw       0.72      0.73      0.72       892\n",
      "         Win       0.73      0.72      0.72       896\n",
      "\n",
      "    accuracy                           0.72      1788\n",
      "   macro avg       0.72      0.72      0.72      1788\n",
      "weighted avg       0.72      0.72      0.72      1788\n",
      "\n"
     ]
    }
   ],
   "source": [
    "plt.rcParams[\"figure.figsize\"] = [5, 3]\n",
    "plt.rcParams[\"figure.autolayout\"] = True\n",
    "\n",
    "def plot_confusion_mat(name, model):\n",
    "    color = 'black'\n",
    "    matrix = plot_confusion_matrix(model, X_test, y_test, cmap=plt.cm.Blues, display_labels=['Loss/Draw', 'Win'])\n",
    "    matrix.ax_.set_title(name + ' - Confusion Matrix', color=color)\n",
    "    plt.xlabel('Predicted Label', color=color)\n",
    "    plt.ylabel('True Label', color=color)\n",
    "    plt.gcf().axes[0].tick_params(colors=color)\n",
    "    plt.gcf().axes[1].tick_params(colors=color)\n",
    "    plt.show()\n",
    "#     plt.savefig('cm_{}.eps'.format(name.replace(\" \", \"_\").lower()), format='eps')\n",
    "\n",
    "def print_cm(cm, labels, hide_zeroes=False, hide_diagonal=False, hide_threshold=None):\n",
    "    \"\"\"pretty print for confusion matrixes\"\"\"\n",
    "    columnwidth = max([len(x) for x in labels] + [5])  # 5 is value length\n",
    "    empty_cell = \" \" * columnwidth\n",
    "    # Print header\n",
    "    print(\"    \" + empty_cell, end=\" \")\n",
    "    for label in labels:\n",
    "        print(\"%{0}s\".format(columnwidth) % label, end=\" \")\n",
    "    print()\n",
    "    # Print rows\n",
    "    for i, label1 in enumerate(labels):\n",
    "        print(\"    %{0}s\".format(columnwidth) % label1, end=\" \")\n",
    "        for j in range(len(labels)):\n",
    "            cell = \"%{0}.0f\".format(columnwidth) % cm[i, j]\n",
    "            if hide_zeroes:\n",
    "                cell = cell if float(cm[i, j]) != 0 else empty_cell\n",
    "            if hide_diagonal:\n",
    "                cell = cell if i != j else empty_cell\n",
    "            if hide_threshold:\n",
    "                cell = cell if cm[i, j] > hide_threshold else empty_cell\n",
    "            print(cell, end=\" \")\n",
    "        print()\n",
    "\n",
    "model_names = ['Logistic Regression', 'Decision Tree', 'Naive Bayes', 'KNN', 'SVM']\n",
    "model_classes = [LogisticRegression(), DecisionTreeClassifier(), BernoulliNB(), KNeighborsClassifier(), SVC(probability = True)]\n",
    "\n",
    "def plot_roc(name, model):\n",
    "    model.fit(X_train, y_train)\n",
    "    y_pred = model.predict(X_test)\n",
    "    print('\\n================================ ' + name + ' ================================')\n",
    "#     plot_confusion_mat(name, model)\n",
    "    cm = confusion_matrix(y_test, y_pred)\n",
    "    print(\"Confusion Matrix: \\n\")\n",
    "    print_cm(cm, ['Loss/Draw', 'Win'])\n",
    "    print(\"\\nMetrics: \\n\")\n",
    "    print(classification_report(y_test, y_pred, target_names = ['Loss/Draw', 'Win']))\n",
    "\n",
    "for name, model in zip(model_names, model_classes):\n",
    "    plot_roc(name, model)\n",
    "\n",
    "# plt.suptitle('ROC Curves for Algorithms')\n",
    "# plt.legend()\n",
    "# plt.show()"
   ]
  },
  {
   "cell_type": "markdown",
   "metadata": {},
   "source": [
    "## 4. Algorithms Used - Own Implementation"
   ]
  },
  {
   "cell_type": "markdown",
   "metadata": {},
   "source": [
    "### 4.a. Logistic Regression"
   ]
  },
  {
   "cell_type": "code",
   "execution_count": 20,
   "metadata": {},
   "outputs": [],
   "source": [
    "class LogisticRegression:\n",
    "    def __init__(self):\n",
    "        self.learning_rate=0.1\n",
    "        self.iterations=100\n",
    "        self.weights=[]\n",
    "        self.gradients=[]\n",
    "        self.labelWithWeights={}\n",
    "\n",
    "    def sigmoid(self,z):\n",
    "        return 1/(1+math.exp(-z))\n",
    "\n",
    "    def fit(self,X,Y):\n",
    "        for t in np.unique(Y):\n",
    "            y=[]\n",
    "            #for s in range(len(Y)):\n",
    "            y=np.where(t==Y,1,0)\n",
    "            self.weights=np.zeros(len(X[0]))\n",
    "            for k in range(self.iterations):\n",
    "                self.gradients=np.zeros(len(X[0]))\n",
    "                for i in range(len(X)):\n",
    "                    prediction=self.sigmoid(np.dot(self.weights,X[i]))\n",
    "                    error=y[i]-prediction\n",
    "                    for j in range(len(X[0])):\n",
    "                        self.gradients[j]=self.gradients[j]-(error*X[i][j])\n",
    "                    self.gradients=[i/len(X) for i in self.gradients]\n",
    "                    #print(\"self.gradients\",self.gradients)\n",
    "                    self.weights=[self.weights[l]-(self.learning_rate*self.gradients[l]) for l in range(len(X[0]))]\n",
    "            self.labelWithWeights[t]=self.weights\n",
    "\n",
    "    def predict_example(self,x):\n",
    "        dict={}\n",
    "        for key in self.labelWithWeights.keys():\n",
    "            dict[key]=self.sigmoid(np.dot(self.labelWithWeights[key],x))\n",
    "        return max(dict,key=dict.get)\n",
    "\n",
    "def compute_error(y_true,y_pred):\n",
    "    errors=[]\n",
    "    for i in range(len(y_true)):\n",
    "        if y_true[i]!=y_pred[i]:\n",
    "            errors.append(1)\n",
    "        else:\n",
    "            errors.append(0)\n",
    "    return float(sum(errors)/len(errors))"
   ]
  },
  {
   "cell_type": "code",
   "execution_count": 21,
   "metadata": {},
   "outputs": [
    {
     "name": "stdout",
     "output_type": "stream",
     "text": [
      "\n",
      "================================ Own Implementation ================================\n",
      "Train Accuracy = 73.99%.\n",
      "Test Accuracy = 72.76%.\n",
      "True Positive Rate = 0.77\n",
      "False Positive Rate = 0.31\n"
     ]
    },
    {
     "data": {
      "image/png": "[encoded data removed]",
      "text/plain": [
       "<Figure size 360x216 with 1 Axes>"
      ]
     },
     "metadata": {
      "needs_background": "light"
     },
     "output_type": "display_data"
    },
    {
     "name": "stdout",
     "output_type": "stream",
     "text": [
      "\n",
      "================================ Scikit-Learn ================================\n",
      "Train Accuracy = 73.87%.\n",
      "Test Accuracy = 72.15%.\n",
      "True Positive Rate = 0.71\n",
      "False Positive Rate = 0.27\n"
     ]
    },
    {
     "data": {
      "image/png": "[encoded data removed]",
      "text/plain": [
       "<Figure size 360x216 with 1 Axes>"
      ]
     },
     "metadata": {
      "needs_background": "light"
     },
     "output_type": "display_data"
    },
    {
     "data": {
      "text/plain": [
       "<Figure size 360x216 with 0 Axes>"
      ]
     },
     "metadata": {},
     "output_type": "display_data"
    }
   ],
   "source": [
    "from sklearn.metrics import confusion_matrix\n",
    "from sklearn.linear_model import LogisticRegression as lr\n",
    "\n",
    "plt.rcParams[\"figure.figsize\"] = [5, 3]\n",
    "plt.rcParams[\"figure.autolayout\"] = True\n",
    "\n",
    "ytrn = np.asarray(y_train.values.tolist())\n",
    "Xtrn = np.asarray(X_train.values.tolist())\n",
    "\n",
    "ytst = np.asarray(y_test.values.tolist())\n",
    "Xtst = np.asarray(X_test.values.tolist())\n",
    "\n",
    "name = \"Own Implementation\"\n",
    "print('\\n================================ ' + name + ' ================================')\n",
    "logReg=LogisticRegression()\n",
    "logReg.fit(Xtrn,ytrn)\n",
    "y_pred = [logReg.predict_example(x) for x in Xtrn]\n",
    "trn_err = compute_error(ytrn, y_pred)\n",
    "y_pred = [logReg.predict_example(x) for x in Xtst]\n",
    "tst_err = compute_error(ytst, y_pred)\n",
    "print('Train Accuracy = {0:4.2f}%.'.format((1-trn_err) * 100))\n",
    "print('Test Accuracy = {0:4.2f}%.'.format((1-tst_err) * 100))\n",
    "matrix_confusion = confusion_matrix(ytst, y_pred)\n",
    "tn, fp, fn, tp = matrix_confusion.ravel()\n",
    "# print(tn, fp, fn, tp)\n",
    "tpr, fpr = tp / (tp + fn), fp / (fp + tn)\n",
    "print('True Positive Rate = {0:4.2f}'.format(tpr))\n",
    "print('False Positive Rate = {0:4.2f}'.format(fpr))\n",
    "sns.heatmap(matrix_confusion, square=True, annot=True, cmap='Blues', fmt='d', cbar=False)\n",
    "plt.suptitle(name + ' - Confusion Matrix')\n",
    "plt.xlabel('Predicted Label')\n",
    "plt.ylabel('True Label')\n",
    "plt.show()\n",
    "# plt.savefig('own_lr.eps', format='eps')\n",
    "plt.clf()\n",
    "    \n",
    "name = \"Scikit-Learn\"\n",
    "print('\\n================================ ' + name + ' ================================')\n",
    "sklearn = lr(max_iter=100,multi_class='ovr')\n",
    "sklearn.fit(Xtrn, ytrn)\n",
    "y_pred = sklearn.predict(Xtrn)\n",
    "trn_err = compute_error(ytrn, y_pred)\n",
    "y_pred = sklearn.predict(Xtst)\n",
    "tst_err = compute_error(ytst, y_pred)\n",
    "print('Train Accuracy = {0:4.2f}%.'.format((1-trn_err) * 100))\n",
    "print('Test Accuracy = {0:4.2f}%.'.format((1-tst_err) * 100))\n",
    "matrix_confusion = confusion_matrix(ytst, y_pred)\n",
    "tn, fp, fn, tp = matrix_confusion.ravel()\n",
    "# print(tn, fp, fn, tp)\n",
    "tpr, fpr = tp / (tp + fn), fp / (fp + tn)\n",
    "print('True Positive Rate = {0:4.2f}'.format(tpr))\n",
    "print('False Positive Rate = {0:4.2f}'.format(fpr))\n",
    "sns.heatmap(matrix_confusion, square=True, annot=True, cmap='Blues', fmt='d', cbar=False)\n",
    "plt.suptitle(name + ' - Confusion Matrix')\n",
    "plt.xlabel('Predicted Label')\n",
    "plt.ylabel('True Label')\n",
    "plt.show()\n",
    "# plt.savefig('sklearn_lr.eps', format='eps')\n",
    "plt.clf()"
   ]
  },
  {
   "cell_type": "markdown",
   "metadata": {},
   "source": [
    "### 4.b. Naive Bayes"
   ]
  },
  {
   "cell_type": "code",
   "execution_count": 22,
   "metadata": {},
   "outputs": [],
   "source": [
    "class NaiveBayes:\n",
    "    def __init__(self):\n",
    "        self.dict_probability_x={}\n",
    "\n",
    "    def partition(self,x):\n",
    "        result = {}\n",
    "        v = np.unique(x)\n",
    "        sol = []\n",
    "        for i in v:\n",
    "            temp_sol = []\n",
    "            for j in range(len(x)):\n",
    "                if (i == x[j]):\n",
    "                    temp_sol.append(j)\n",
    "            sol.append(temp_sol)\n",
    "        for i in range(len(v)):\n",
    "            result[v[i]] = sol[i]\n",
    "        return result\n",
    "\n",
    "    def fit(self,X,y):\n",
    "        # print(self.partition(Y))\n",
    "        for i in range(len(X.T)):\n",
    "            for key_y,value_y in self.partition(y).items():\n",
    "                for key_x in self.partition((X.T)[i]).keys():\n",
    "                    nx=0\n",
    "                    ny=len(value_y)\n",
    "                    for j in value_y:\n",
    "                        # print(\"j\",j)\n",
    "                        # print(\"(X.T)[i]\", (X.T)[i])\n",
    "                        if ((X.T)[i])[j]==key_x:\n",
    "                            nx=nx+1\n",
    "                    self.dict_probability_x[(key_x,key_y,i)]=(nx,ny)\n",
    "        # print(self.dict_probability_x)\n",
    "\n",
    "    def predict_example(self,X,y):\n",
    "        result={}\n",
    "        for i in np.unique(y):\n",
    "            initial=1\n",
    "            for j in range(len(X)):\n",
    "                initial=initial*float(self.dict_probability_x[(X[j],i,j)][0]/self.dict_probability_x[(X[j],i,j)][1])\n",
    "            result[i]=initial*float(len(self.partition(y)[i])/len(y))\n",
    "        return max(result,key=result.get)\n",
    "    \n",
    "def compute_error(y_true, y_pred):\n",
    "    errors = []\n",
    "    for i in range(len(y_true)):\n",
    "        if y_true[i] != y_pred[i]:\n",
    "            errors.append(1)\n",
    "        else:\n",
    "            errors.append(0)\n",
    "    return float(sum(errors) / len(errors))"
   ]
  },
  {
   "cell_type": "code",
   "execution_count": 25,
   "metadata": {},
   "outputs": [
    {
     "name": "stdout",
     "output_type": "stream",
     "text": [
      "\n",
      "================================ Own Implementation ================================\n",
      "Train Accuracy = 74.02%.\n",
      "Test Accuracy = 72.37%.\n",
      "True Positive Rate = 0.73\n",
      "False Positive Rate = 0.28\n"
     ]
    },
    {
     "data": {
      "image/png": "[encoded data removed]",
      "text/plain": [
       "<Figure size 360x216 with 1 Axes>"
      ]
     },
     "metadata": {
      "needs_background": "light"
     },
     "output_type": "display_data"
    },
    {
     "name": "stdout",
     "output_type": "stream",
     "text": [
      "\n",
      "================================ Scikit-Learn ================================\n",
      "Train Accuracy = 74.02%.\n",
      "Test Accuracy = 72.37%.\n",
      "True Positive Rate = 0.73\n",
      "False Positive Rate = 0.28\n"
     ]
    },
    {
     "data": {
      "image/png": "[encoded data removed]",
      "text/plain": [
       "<Figure size 360x216 with 1 Axes>"
      ]
     },
     "metadata": {
      "needs_background": "light"
     },
     "output_type": "display_data"
    },
    {
     "data": {
      "text/plain": [
       "<Figure size 360x216 with 0 Axes>"
      ]
     },
     "metadata": {},
     "output_type": "display_data"
    }
   ],
   "source": [
    "from sklearn.naive_bayes import BernoulliNB as bnb\n",
    "\n",
    "ytrn = np.asarray(y_train.values.tolist())\n",
    "Xtrn = np.asarray(X_train.values.tolist())\n",
    "\n",
    "ytst = np.asarray(y_test.values.tolist())\n",
    "Xtst = np.asarray(X_test.values.tolist())\n",
    "\n",
    "mean_average_rank_train=np.mean(Xtrn[:,0])\n",
    "mean_rank_difference_train=np.mean(Xtrn[:,1])\n",
    "mean_point_difference_train=np.mean(Xtrn[:,2])\n",
    "mean_average_rank_test = np.mean(Xtst[:, 0])\n",
    "mean_rank_difference_test = np.mean(Xtst[:, 1])\n",
    "mean_point_difference_test = np.mean(Xtst[:, 2])\n",
    "\n",
    "for i in range(len(Xtrn)):\n",
    "    Xtrn[i, 0] = 1 if float(Xtrn[i, 0]) > mean_average_rank_train else 0\n",
    "    Xtrn[i, 1] = 1 if float(Xtrn[i, 1]) > mean_rank_difference_train else 0\n",
    "    Xtrn[i, 2] = 1 if float(Xtrn[i, 2]) > mean_point_difference_train else 0\n",
    "for i in range(len(Xtst)):\n",
    "    Xtst[i, 0] = 1 if float(Xtst[i, 0]) > mean_average_rank_test else 0\n",
    "    Xtst[i, 1] = 1 if float(Xtst[i, 1]) > mean_rank_difference_test else 0\n",
    "    Xtst[i, 2] = 1 if float(Xtst[i, 2]) > mean_point_difference_test else 0\n",
    "\n",
    "plt.rcParams[\"figure.figsize\"] = [5, 3]\n",
    "plt.rcParams[\"figure.autolayout\"] = True\n",
    "\n",
    "name = \"Own Implementation\"\n",
    "print('\\n================================ ' + name + ' ================================')\n",
    "nb = NaiveBayes()\n",
    "nb.fit(Xtrn, ytrn)\n",
    "y_pred = [nb.predict_example(x,ytrn) for x in Xtrn]\n",
    "trn_err = compute_error(ytrn, y_pred)\n",
    "y_pred = [nb.predict_example(x,ytrn) for x in Xtst]\n",
    "tst_err = compute_error(ytst, y_pred)\n",
    "print('Train Accuracy = {0:4.2f}%.'.format((1-trn_err) * 100))\n",
    "print('Test Accuracy = {0:4.2f}%.'.format((1-tst_err) * 100))\n",
    "matrix_confusion = confusion_matrix(ytst, y_pred)\n",
    "tn, fp, fn, tp = matrix_confusion.ravel()\n",
    "tpr, fpr = tp / (tp + fn), fp / (fp + tn)\n",
    "print('True Positive Rate = {0:4.2f}'.format(tpr))\n",
    "print('False Positive Rate = {0:4.2f}'.format(fpr))\n",
    "sns.heatmap(matrix_confusion, square=True, annot=True, cmap='Blues', fmt='d', cbar=False)\n",
    "plt.suptitle(name + ' - Confusion Matrix')\n",
    "plt.xlabel('Predicted Label')\n",
    "plt.ylabel('True Label')\n",
    "plt.show()\n",
    "# plt.savefig('own_nb.eps', format='eps')\n",
    "plt.clf()\n",
    "\n",
    "name = \"Scikit-Learn\"\n",
    "print('\\n================================ ' + name + ' ================================')\n",
    "sklearn = bnb()\n",
    "sklearn.fit(Xtrn, ytrn)\n",
    "y_pred = sklearn.predict(Xtrn)\n",
    "trn_err = compute_error(ytrn, y_pred)\n",
    "y_pred = sklearn.predict(Xtst)\n",
    "tst_err = compute_error(ytst, y_pred)\n",
    "print('Train Accuracy = {0:4.2f}%.'.format((1-trn_err) * 100))\n",
    "print('Test Accuracy = {0:4.2f}%.'.format((1-tst_err) * 100))\n",
    "matrix_confusion = confusion_matrix(ytst, y_pred)\n",
    "tn, fp, fn, tp = matrix_confusion.ravel()\n",
    "tpr, fpr = tp / (tp + fn), fp / (fp + tn)\n",
    "print('True Positive Rate = {0:4.2f}'.format(tpr))\n",
    "print('False Positive Rate = {0:4.2f}'.format(fpr))\n",
    "sns.heatmap(matrix_confusion, square=True, annot=True, cmap='Blues', fmt='d', cbar=False)\n",
    "plt.suptitle(name + ' - Confusion Matrix')\n",
    "plt.xlabel('Predicted Label')\n",
    "plt.ylabel('True Label')\n",
    "plt.show()\n",
    "# plt.savefig('sklearn_nb.eps', format='eps')\n",
    "plt.clf()"
   ]
  },
  {
   "cell_type": "markdown",
   "metadata": {},
   "source": [
    "### 4.c. Decision Tree"
   ]
  },
  {
   "cell_type": "code",
   "execution_count": 26,
   "metadata": {},
   "outputs": [],
   "source": [
    "import numpy as np\n",
    "import math\n",
    "import matplotlib.pyplot as plt\n",
    "from sklearn import tree\n",
    "from sklearn.metrics import confusion_matrix, accuracy_score\n",
    "# import graphviz\n",
    "\n",
    "def partition(x):\n",
    "\tv = dict()\n",
    "\tfor index, value in enumerate(x):\n",
    "\t\tif value not in v:\n",
    "\t\t\tv[value] = [index]\n",
    "\t\telse:\n",
    "\t\t\tv[value].append(index)\n",
    "\treturn v\n",
    "\n",
    "def entropy(y):\n",
    "\tentropy_val, total_val = 0, 0\n",
    "\tfor value in y:\n",
    "\t\ttotal_val += len(y[value])\n",
    "\tfor value in y:\n",
    "\t\tprobability_val = len(y[value]) / total_val\n",
    "\t\tentropy_val -= probability_val * math.log2(probability_val)\n",
    "\treturn entropy_val\n",
    "\n",
    "def mutual_information(x, y):\n",
    "\ttotal_val = len(y)\n",
    "\tH_y = entropy(partition(y))\t\n",
    "\tunique_vals = partition(x)\n",
    "\tH_yx = 0\n",
    "\tfor key in unique_vals:\n",
    "\t\tclasses, class_count = {}, 0\n",
    "\t\tfor index in unique_vals[key]:\n",
    "\t\t\tclass_count += 1\n",
    "\t\t\tif y[index] not in classes:\n",
    "\t\t\t\tclasses[y[index]] = [index]\n",
    "\t\t\telse:\n",
    "\t\t\t\tclasses[y[index]].append(index)\n",
    "\t\tH_yx += entropy(classes) * (class_count/total_val)\n",
    "\tI_xy = H_y - H_yx\n",
    "\t\n",
    "\treturn I_xy\n",
    "\n",
    "def id3(x, y, attribute_value_pairs=None, depth=0, max_depth=5):\n",
    "\tif attribute_value_pairs == None:\n",
    "\t\tattribute_value_pairs = []\n",
    "\t\tfor i in range(len(x[0])):\n",
    "\t\t\tfor key in partition(x[:,i]):\n",
    "\t\t\t\tattribute_value_pairs.append((i,key))\n",
    "\t\t\n",
    "\tnew_depth = depth\n",
    "\ttree = dict()\n",
    "\tunique_elements = np.unique(y, return_counts=True)\n",
    "\telements = unique_elements[0]\n",
    "\tcounts = unique_elements[1]\n",
    "\tmajority_label = elements[np.argmax(counts)]\n",
    "\n",
    "\t# Three termination conditions\n",
    "\tif len(elements) == 1:\n",
    "\t\t# 1. If the entire set of labels (y) is pure (all y = only 0 or only 1), then return that label\n",
    "\t\treturn y[0]\t\n",
    "\telif attribute_value_pairs != None and len(attribute_value_pairs) == 0:\n",
    "\t\t# 2. If the set of attribute-value pairs is empty (there is nothing to split on), then return\n",
    "\t\t#    the most common value of y (majority label)\n",
    "\t\treturn majority_label\n",
    "\telif depth == max_depth:\n",
    "\t\t# 3. If the max_depth is reached (pre-pruning bias), then return the most common value of y (majority label)\n",
    "\t\treturn majority_label\n",
    "\telse:\n",
    "\t\t# Continue with Recursion\n",
    "\t\tinformation_gain = []\n",
    "\t\tfor (index,value) in attribute_value_pairs:\n",
    "\t\t\tinformation_gain.append(mutual_information(x[:,index] == value,y))\n",
    "\n",
    "\t\t# If we select (x2, d) as the best attribute-value pair, then the new decision node becomes: \n",
    "\t\t# [ (x2 == d)? ] and the attribute-value pair (x2, d) is removed from the list of attribute_value_pairs.\n",
    "\n",
    "\t\tchosen_pair = attribute_value_pairs[np.argmax(information_gain)]\n",
    "\t\tbest_index, best_value = chosen_pair\n",
    "\n",
    "\t\tnew_pair = []\n",
    "\t\tfor i in attribute_value_pairs:\n",
    "\t\t\tif i != chosen_pair:\n",
    "\t\t\t\tnew_pair.append(i)\n",
    "\n",
    "\t\tattribute_value_pairs = new_pair\n",
    "\n",
    "\t\t# Custom broadcasting vector (x) with a scalar value (best_value) using numpy\n",
    "\t\ttrue_condition = x[:,best_index] == best_value\n",
    "\t\tfalse_condition = x[:,best_index] != best_value\n",
    "\n",
    "\t\tx_true, y_true, x_false, y_false = x[true_condition], y[true_condition], x[false_condition], y[false_condition]\n",
    "\t\t\n",
    "\t\tnew_depth += 1\n",
    "\n",
    "\t\tif len(y_true):\n",
    "\t\t\ttree[best_index, best_value, True] = id3(x_true, y_true, attribute_value_pairs, depth=new_depth, max_depth=max_depth)\n",
    "\t\t\n",
    "\t\tif len(y_false):\n",
    "\t\t\ttree[best_index, best_value, False] = id3(x_false, y_false, attribute_value_pairs, depth=new_depth, max_depth=max_depth)\n",
    "\t\n",
    "\treturn tree\n",
    "\n",
    "def predict_example(x, tree):\n",
    "\ttry:\n",
    "\t\tfor node in tree:\n",
    "\t\t\tattribute, value, truth_value = node\n",
    "\t\t\tif value == x[attribute] and truth_value == True:\n",
    "\t\t\t\treturn predict_example(x, tree[node])\n",
    "\t\t\telif value != x[attribute] and truth_value == False:\n",
    "\t\t\t\treturn predict_example(x, tree[node])\n",
    "\texcept TypeError as te:\n",
    "\t\treturn tree\n",
    "\n",
    "def compute_error(y_true, y_pred):\n",
    "\treturn (1/len(y_true)) * sum(y_true != y_pred)"
   ]
  },
  {
   "cell_type": "code",
   "execution_count": 30,
   "metadata": {
    "scrolled": true
   },
   "outputs": [
    {
     "name": "stdout",
     "output_type": "stream",
     "text": [
      "Depth =  1\n",
      "Accuracy = 50.00%.\n",
      "\n",
      "Depth =  2\n",
      "Accuracy = 50.28%.\n",
      "\n",
      "Depth =  3\n",
      "Accuracy = 50.56%.\n",
      "\n",
      "Depth =  4\n",
      "Accuracy = 50.56%.\n",
      "\n",
      "Depth =  5\n",
      "Accuracy = 50.78%.\n",
      "\n",
      "Depth =  6\n",
      "Accuracy = 50.78%.\n",
      "\n",
      "Depth =  7\n",
      "Accuracy = 50.78%.\n",
      "\n",
      "Depth =  8\n",
      "Accuracy = 50.78%.\n",
      "\n",
      "Depth =  9\n",
      "Accuracy = 51.06%.\n",
      "\n",
      "Depth =  10\n",
      "Accuracy = 51.06%.\n",
      "\n",
      "Depth =  11\n",
      "Accuracy = 51.29%.\n",
      "\n",
      "Depth =  12\n",
      "Accuracy = 51.23%.\n",
      "\n",
      "Depth =  13\n",
      "Accuracy = 51.23%.\n",
      "\n",
      "Depth =  14\n",
      "Accuracy = 51.23%.\n",
      "\n",
      "Depth =  15\n",
      "Accuracy = 52.57%.\n",
      "\n",
      "Depth =  16\n",
      "Accuracy = 52.91%.\n",
      "\n",
      "Depth =  17\n",
      "Accuracy = 52.85%.\n",
      "\n",
      "Depth =  18\n",
      "Accuracy = 52.96%.\n",
      "\n",
      "Depth =  19\n",
      "Accuracy = 52.96%.\n",
      "\n",
      "Depth =  20\n",
      "Accuracy = 52.96%.\n",
      "\n"
     ]
    }
   ],
   "source": [
    "ytrn = np.asarray(y_train.values.tolist())\n",
    "Xtrn = np.asarray(X_train.values.tolist())\n",
    "\n",
    "ytst = np.asarray(y_test.values.tolist())\n",
    "Xtst = np.asarray(X_test.values.tolist())\n",
    "# print(Xtrn, ytrn)\n",
    "\n",
    "depth_accuracies = []\n",
    "for depth in range(1, 20+1, 1):\n",
    "\tdecision_tree = id3(Xtrn, ytrn, max_depth=depth+1)\n",
    "\ty_pred = [predict_example(x, decision_tree) for x in Xtst]\n",
    "\ttst_err = compute_error(ytst, y_pred)\n",
    "\taccuracy = (1 - tst_err) * 100\n",
    "\tprint('Depth = ', depth)\n",
    "\tdepth_accuracies.append(accuracy)\n",
    "\tprint('Accuracy = {0:4.2f}%.\\n'.format(accuracy))"
   ]
  },
  {
   "cell_type": "code",
   "execution_count": 33,
   "metadata": {
    "scrolled": true
   },
   "outputs": [],
   "source": [
    "depth_list = [x for x in range(1, 21, 1)]\n",
    "sklearn_accuracies = []\n",
    "for depth in range(1, 21, 1):\n",
    "    decision_tree = DecisionTreeClassifier(max_depth=depth)\n",
    "    decision_tree.fit(X_train, y_train)\n",
    "    Y_pred = decision_tree.predict(X_test)\n",
    "    acc_decision_tree = round(decision_tree.score(X_test, y_test) * 100, 2)\n",
    "#     print(acc_decision_tree)\n",
    "    sklearn_accuracies.append(acc_decision_tree)\n",
    "\n",
    "acc_custom_dt = depth_accuracies\n",
    "acc_dt = sklearn_accuracies"
   ]
  },
  {
   "cell_type": "code",
   "execution_count": 34,
   "metadata": {},
   "outputs": [
    {
     "data": {
      "image/png": "[encoded data removed]",
      "text/plain": [
       "<Figure size 540x360 with 1 Axes>"
      ]
     },
     "metadata": {
      "needs_background": "light"
     },
     "output_type": "display_data"
    },
    {
     "data": {
      "text/plain": [
       "<Figure size 540x360 with 0 Axes>"
      ]
     },
     "metadata": {},
     "output_type": "display_data"
    }
   ],
   "source": [
    "import warnings\n",
    "warnings.filterwarnings(\"ignore\")\n",
    "\n",
    "plt.rcParams[\"figure.figsize\"] = [7.5, 5]\n",
    "plt.rcParams[\"figure.autolayout\"] = True\n",
    "\n",
    "plt.plot(depth_list, acc_custom_dt, label = 'Own Implementation')\n",
    "plt.plot(depth_list, acc_dt, label = 'sklearn')\n",
    "plt.suptitle('Test Accuracy vs Decision Tree Depths')\n",
    "plt.xlabel('Depth')\n",
    "plt.ylabel('Accuracy')\n",
    "plt.legend(loc='upper right')\n",
    "plt.axes().xaxis.set_major_locator(MaxNLocator(integer=True))\n",
    "# plt.xlim([0, 21])\n",
    "plt.grid()\n",
    "plt.show()\n",
    "# plt.savefig('own_dt.eps', format='eps')\n",
    "plt.clf()"
   ]
  },
  {
   "cell_type": "markdown",
   "metadata": {},
   "source": [
    "## 5. World Cup Simulation"
   ]
  },
  {
   "cell_type": "code",
   "execution_count": 35,
   "metadata": {},
   "outputs": [
    {
     "name": "stdout",
     "output_type": "stream",
     "text": [
      "Top 16 teams: \n",
      "Netherlands, Belgium, Brazil, France, Portugal, Argentina, Spain, England, Mexico, Uruguay, Senegal, Denmark, Croatia, Germany, USA, Switzerland\n"
     ]
    }
   ],
   "source": [
    "from sklearn.linear_model import LogisticRegression\n",
    "logreg = LogisticRegression()\n",
    "logreg.fit(X_train, y_train)\n",
    "model = logreg\n",
    "\n",
    "rank_df = rank_df.loc[(rank_df['rank_date'] == rank_df['rank_date'].max()) & (rank_df['country_full'].isin(teams_df['Team'].unique()))]\n",
    "\n",
    "worldcup_rankings = rank_df.set_index(['country_full'])\n",
    "\n",
    "opponents = ['First match \\nagainst', 'Second match\\n against', 'Third match\\n against']\n",
    "\n",
    "world_cup = teams_df.set_index(['Team'])\n",
    "world_cup['points'] = 0\n",
    "world_cup['total_prob'] = 0\n",
    "world_cup['expected points'] = 0\n",
    "world_cup['rank'] = None\n",
    "\n",
    "country_win_prob = {}\n",
    "\n",
    "for country in teams_df['Team'].unique():\n",
    "    country_win_prob[country] = list()\n",
    "    \n",
    "for group in sorted(set(teams_df['Group'])):\n",
    "    for home, away in combinations(teams_df.query('Group == \"{}\"'.format(group)).values, 2):\n",
    "    \n",
    "        home, away = home[0], away[0]\n",
    "        \n",
    "        row = pd.DataFrame(np.array([[np.nan, np.nan, np.nan]]), columns=X_train.columns)\n",
    "\n",
    "        home_rank = worldcup_rankings.loc[home, 'rank']\n",
    "        home_points = worldcup_rankings.loc[home, 'total_points']\n",
    "        opp_rank = worldcup_rankings.loc[away, 'rank']\n",
    "        opp_points = worldcup_rankings.loc[away, 'total_points']\n",
    "        world_cup.loc[home, 'rank'] = home_rank\n",
    "        world_cup.loc[away, 'rank'] = opp_rank\n",
    "\n",
    "        row['average_rank'] = (home_rank + opp_rank) / 2\n",
    "        row['rank_difference'] = home_rank - opp_rank\n",
    "        row['point_difference'] = home_points - opp_points\n",
    "        \n",
    "        home_win_prob = model.predict_proba(row)[:,1][0]\n",
    "\n",
    "        country_win_prob[home].append(home_win_prob)\n",
    "        country_win_prob[away].append(1-home_win_prob)\n",
    "\n",
    "team_group_map = {}\n",
    "for team, group in zip(list(teams_df['Team']), list(teams_df['Group'])):\n",
    "    team_group_map[team] = group\n",
    "\n",
    "country_total_prob = []\n",
    "\n",
    "for country in country_win_prob.keys():\n",
    "\n",
    "    win_prob_list = country_win_prob[country]\n",
    "\n",
    "    total_prob = 0\n",
    "    temp = 1\n",
    "    for i in range(3):\n",
    "        temp = temp * win_prob_list[i]\n",
    "\n",
    "    total_prob += temp\n",
    "\n",
    "    for i in range(3):\n",
    "        temp = 1\n",
    "        for j in range(3):\n",
    "            if i == j:\n",
    "                temp = temp * (1 - win_prob_list[i])\n",
    "            else:\n",
    "                temp = temp * win_prob_list[i]\n",
    "        total_prob += temp\n",
    "    \n",
    "    country_total_prob.append([country, total_prob, team_group_map[country]])\n",
    "\n",
    "country_total_prob = sorted(country_total_prob, key=lambda x: x[1], reverse=True)\n",
    "\n",
    "country_total_prob.sort(key=lambda x:x[1], reverse=True)\n",
    "\n",
    "prob_df = pd.DataFrame(country_total_prob, columns =['Country', 'Probability', 'Group']) \n",
    "top_16 = [i[0] for i in country_total_prob[:len(country_total_prob)//2]]\n",
    "print('Top 16 teams: ')\n",
    "print(', '.join(top_16))"
   ]
  },
  {
   "cell_type": "code",
   "execution_count": 37,
   "metadata": {},
   "outputs": [
    {
     "name": "stdout",
     "output_type": "stream",
     "text": [
      "Quarter Finalists (top 8): \n",
      "Netherlands, Belgium, Brazil, France, Portugal, Argentina, Spain, England\n",
      "\n",
      "Semifinalists (top 4): \n",
      "Argentina, France, Brazil, Belgium\n",
      "\n",
      "Finalists (top 2): \n",
      "Brazil, Belgium\n",
      "\n",
      "Winner: \n",
      "Brazil wins with 53.75% probability\n"
     ]
    }
   ],
   "source": [
    "round_of_16 = {}\n",
    "for team, probability, group in country_total_prob:\n",
    "    if group not in round_of_16:\n",
    "        round_of_16[group] = [[team, probability, group]]\n",
    "    elif len(round_of_16[group]) <= 1:\n",
    "        round_of_16[group].append([team, probability, group])\n",
    "\n",
    "def who_wins(home, away):\n",
    "    winner = ['', 0]\n",
    "    \n",
    "    row = pd.DataFrame(np.array([[np.nan, np.nan, np.nan]]), columns=X_train.columns)\n",
    "\n",
    "    home_rank = worldcup_rankings.loc[home, 'rank']\n",
    "    home_points = worldcup_rankings.loc[home, 'total_points']\n",
    "    opp_rank = worldcup_rankings.loc[away, 'rank']\n",
    "    opp_points = worldcup_rankings.loc[away, 'total_points']\n",
    "\n",
    "    row['average_rank'] = (home_rank + opp_rank) / 2\n",
    "    row['rank_difference'] = home_rank - opp_rank\n",
    "    row['point_difference'] = home_points - opp_points\n",
    "\n",
    "    # Model Output\n",
    "    home_win_prob = model.predict_proba(row)[:,1][0]\n",
    "\n",
    "    country_win_prob[home].append(home_win_prob)\n",
    "    country_win_prob[away].append(1-home_win_prob)\n",
    "\n",
    "    points = 0\n",
    "    if home_win_prob <= 0.5:\n",
    "        winner[0] = away\n",
    "        winner[1] = 1-home_win_prob\n",
    "    if home_win_prob >= 0.5:\n",
    "        winner[0] = home\n",
    "        winner[1] = home_win_prob\n",
    "    return winner\n",
    "\n",
    "quarter_finals = {}\n",
    "\n",
    "for group in round_of_16:\n",
    "    winner1 = who_wins(round_of_16[group][0][0], round_of_16[group][1][0])\n",
    "    winner2 = who_wins(round_of_16[group][1][0], round_of_16[group][0][0])\n",
    "    \n",
    "    quarter_finals[group] = winner1 if winner1[1] > winner2[1] else winner2\n",
    "quarter_finalists = [quarter_finals[group][0] for group in quarter_finals]\n",
    "print('Quarter Finalists (top 8): ')\n",
    "print(', '.join(quarter_finalists))\n",
    "\n",
    "groupwise_quarterfinals = collections.OrderedDict(sorted(quarter_finals.items()))\n",
    "groupwise_quarterfinals\n",
    "\n",
    "grouping = {'A': 'C', 'B': 'D', 'E': 'G', 'F': 'H'}\n",
    "quarter_finals\n",
    "\n",
    "quarter_final_winners = []\n",
    "semifinals = []\n",
    "\n",
    "for group in groupwise_quarterfinals:\n",
    "    if group in grouping:\n",
    "        quarter_final_winners.append(groupwise_quarterfinals[group])\n",
    "        winner1 = who_wins(groupwise_quarterfinals[group][0], groupwise_quarterfinals[grouping[group]][0])\n",
    "        winner2 = who_wins(groupwise_quarterfinals[grouping[group]][0], groupwise_quarterfinals[group][0])\n",
    "        winner = winner1 if winner1[1] > winner2[1] else winner2\n",
    "        semifinals.append(winner)\n",
    "\n",
    "semifinalists = [team[0] for team in semifinals]\n",
    "print('\\nSemifinalists (top 4): ')\n",
    "print(', '.join(semifinalists))\n",
    "\n",
    "semifinals\n",
    "finals = []\n",
    "\n",
    "for each_team in range(len(semifinals)//2):\n",
    "#     print(semifinals[each_team], semifinals[each_team+2])\n",
    "    winner1 = who_wins(semifinals[each_team][0], semifinals[each_team+2][0])\n",
    "    winner2 = who_wins(semifinals[each_team+2][0], semifinals[each_team][0])\n",
    "    winner = winner1 if winner1[1] > winner2[1] else winner2\n",
    "    finals.append(winner)\n",
    "\n",
    "finalists = [team[0] for team in finals]\n",
    "print('\\nFinalists (top 2): ')\n",
    "print(', '.join(finalists))\n",
    "winner1 = who_wins(finals[0][0], finals[1][0])\n",
    "winner2 = who_wins(finals[1][0], finals[0][0])\n",
    "world_cup_winner = winner1 if winner1[1] > winner2[1] else winner2\n",
    "\n",
    "print('\\nWinner: ')\n",
    "print('{} wins'.format(world_cup_winner[0]), end = ' ')\n",
    "print('with {0:.2f}% probability'.format(world_cup_winner[1]*100))\n",
    "\n",
    "# who_wins('Spain', 'Morocco')"
   ]
  },
  {
   "cell_type": "markdown",
   "metadata": {},
   "source": [
    "# 6. References"
   ]
  },
  {
   "cell_type": "markdown",
   "metadata": {},
   "source": [
    "- https://www.kaggle.com/code/agostontorok/soccer-world-cup-2018-winner/notebook\n",
    "- https://gist.github.com/zachguo/10296432?permalink_comment_id=2069674#gistcomment-2069674\n",
    "- https://towardsdatascience.com/predicting-the-fifa-world-cup-2022-with-a-simple-model-using-python-6b34bdd4f2a5\n",
    "- https://neptune.ai/blog/how-to-compare-machine-learning-models-and-algorithms\n",
    "- https://iq.opengenus.org/bernoulli-naive-bayes/\n",
    "- https://github.com/AssemblyAI-Examples/Machine-Learning-From-Scratch\n",
    "- https://vasugupta2000.medium.com/implementation-of-gradient-ascent-using-logistic-regression-7f5343877c21"
   ]
  }
 ],
 "metadata": {
  "kernelspec": {
   "display_name": "Python 3",
   "language": "python",
   "name": "python3"
  },
  "language_info": {
   "codemirror_mode": {
    "name": "ipython",
    "version": 3
   },
   "file_extension": ".py",
   "mimetype": "text/x-python",
   "name": "python",
   "nbconvert_exporter": "python",
   "pygments_lexer": "ipython3",
   "version": "3.8.5"
  }
 },
 "nbformat": 4,
 "nbformat_minor": 4
}
